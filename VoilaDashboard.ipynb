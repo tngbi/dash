{
 "cells": [
  {
   "cell_type": "code",
   "execution_count": 1,
   "id": "4b1a00cc",
   "metadata": {},
   "outputs": [],
   "source": [
    "import numpy as np\n",
    "import pandas as pd\n",
    "\n",
    "import warnings\n",
    "warnings.filterwarnings(\"ignore\")"
   ]
  },
  {
   "cell_type": "code",
   "execution_count": 2,
   "id": "f37eb44e",
   "metadata": {},
   "outputs": [
    {
     "data": {
      "text/html": [
       "<h1><center>Some Basic Visualisation for Voila Dashboard!</center></h1>"
      ],
      "text/plain": [
       "<IPython.core.display.HTML object>"
      ]
     },
     "metadata": {},
     "output_type": "display_data"
    }
   ],
   "source": [
    "from IPython.core.display import display, HTML\n",
    "display(HTML('<h1><center>Some Basic Visualisation for Voila Dashboard!</center></h1>'))"
   ]
  },
  {
   "cell_type": "code",
   "execution_count": 3,
   "id": "8492e894",
   "metadata": {},
   "outputs": [
    {
     "data": {
      "text/html": [
       "<p><h3><center>This a a simple Dashboard made with Jupyter notebook & Voila</center></h3></p>"
      ],
      "text/plain": [
       "<IPython.core.display.HTML object>"
      ]
     },
     "metadata": {},
     "output_type": "display_data"
    }
   ],
   "source": [
    "display(HTML('<p><h3><center>This a a simple Dashboard made with Jupyter notebook & Voila</center></h3></p>'))"
   ]
  },
  {
   "cell_type": "code",
   "execution_count": 4,
   "id": "07408e00",
   "metadata": {},
   "outputs": [
    {
     "data": {
      "text/html": [
       "<p><h4>The Dataset</h4></p>"
      ],
      "text/plain": [
       "<IPython.core.display.HTML object>"
      ]
     },
     "metadata": {},
     "output_type": "display_data"
    }
   ],
   "source": [
    "display(HTML('<p><h4>The Dataset</h4></p>'))"
   ]
  },
  {
   "cell_type": "code",
   "execution_count": 10,
   "id": "7c4d73f8",
   "metadata": {},
   "outputs": [
    {
     "data": {
      "text/html": [
       "<div>\n",
       "<style scoped>\n",
       "    .dataframe tbody tr th:only-of-type {\n",
       "        vertical-align: middle;\n",
       "    }\n",
       "\n",
       "    .dataframe tbody tr th {\n",
       "        vertical-align: top;\n",
       "    }\n",
       "\n",
       "    .dataframe thead th {\n",
       "        text-align: right;\n",
       "    }\n",
       "</style>\n",
       "<table border=\"1\" class=\"dataframe\">\n",
       "  <thead>\n",
       "    <tr style=\"text-align: right;\">\n",
       "      <th></th>\n",
       "      <th>country</th>\n",
       "      <th>description</th>\n",
       "      <th>designation</th>\n",
       "      <th>points</th>\n",
       "      <th>price</th>\n",
       "      <th>province</th>\n",
       "      <th>region_1</th>\n",
       "      <th>region_2</th>\n",
       "      <th>taster_name</th>\n",
       "      <th>taster_twitter_handle</th>\n",
       "      <th>title</th>\n",
       "      <th>variety</th>\n",
       "      <th>winery</th>\n",
       "    </tr>\n",
       "  </thead>\n",
       "  <tbody>\n",
       "    <tr>\n",
       "      <th>0</th>\n",
       "      <td>Italy</td>\n",
       "      <td>Aromas include tropical fruit, broom, brimston...</td>\n",
       "      <td>Vulkà Bianco</td>\n",
       "      <td>87</td>\n",
       "      <td>NaN</td>\n",
       "      <td>Sicily &amp; Sardinia</td>\n",
       "      <td>Etna</td>\n",
       "      <td>NaN</td>\n",
       "      <td>Kerin O’Keefe</td>\n",
       "      <td>@kerinokeefe</td>\n",
       "      <td>Nicosia 2013 Vulkà Bianco  (Etna)</td>\n",
       "      <td>White Blend</td>\n",
       "      <td>Nicosia</td>\n",
       "    </tr>\n",
       "    <tr>\n",
       "      <th>1</th>\n",
       "      <td>Portugal</td>\n",
       "      <td>This is ripe and fruity, a wine that is smooth...</td>\n",
       "      <td>Avidagos</td>\n",
       "      <td>87</td>\n",
       "      <td>15.0</td>\n",
       "      <td>Douro</td>\n",
       "      <td>NaN</td>\n",
       "      <td>NaN</td>\n",
       "      <td>Roger Voss</td>\n",
       "      <td>@vossroger</td>\n",
       "      <td>Quinta dos Avidagos 2011 Avidagos Red (Douro)</td>\n",
       "      <td>Portuguese Red</td>\n",
       "      <td>Quinta dos Avidagos</td>\n",
       "    </tr>\n",
       "    <tr>\n",
       "      <th>2</th>\n",
       "      <td>US</td>\n",
       "      <td>Tart and snappy, the flavors of lime flesh and...</td>\n",
       "      <td>NaN</td>\n",
       "      <td>87</td>\n",
       "      <td>14.0</td>\n",
       "      <td>Oregon</td>\n",
       "      <td>Willamette Valley</td>\n",
       "      <td>Willamette Valley</td>\n",
       "      <td>Paul Gregutt</td>\n",
       "      <td>@paulgwine</td>\n",
       "      <td>Rainstorm 2013 Pinot Gris (Willamette Valley)</td>\n",
       "      <td>Pinot Gris</td>\n",
       "      <td>Rainstorm</td>\n",
       "    </tr>\n",
       "    <tr>\n",
       "      <th>3</th>\n",
       "      <td>US</td>\n",
       "      <td>Pineapple rind, lemon pith and orange blossom ...</td>\n",
       "      <td>Reserve Late Harvest</td>\n",
       "      <td>87</td>\n",
       "      <td>13.0</td>\n",
       "      <td>Michigan</td>\n",
       "      <td>Lake Michigan Shore</td>\n",
       "      <td>NaN</td>\n",
       "      <td>Alexander Peartree</td>\n",
       "      <td>NaN</td>\n",
       "      <td>St. Julian 2013 Reserve Late Harvest Riesling ...</td>\n",
       "      <td>Riesling</td>\n",
       "      <td>St. Julian</td>\n",
       "    </tr>\n",
       "    <tr>\n",
       "      <th>4</th>\n",
       "      <td>US</td>\n",
       "      <td>Much like the regular bottling from 2012, this...</td>\n",
       "      <td>Vintner's Reserve Wild Child Block</td>\n",
       "      <td>87</td>\n",
       "      <td>65.0</td>\n",
       "      <td>Oregon</td>\n",
       "      <td>Willamette Valley</td>\n",
       "      <td>Willamette Valley</td>\n",
       "      <td>Paul Gregutt</td>\n",
       "      <td>@paulgwine</td>\n",
       "      <td>Sweet Cheeks 2012 Vintner's Reserve Wild Child...</td>\n",
       "      <td>Pinot Noir</td>\n",
       "      <td>Sweet Cheeks</td>\n",
       "    </tr>\n",
       "  </tbody>\n",
       "</table>\n",
       "</div>"
      ],
      "text/plain": [
       "    country                                        description  \\\n",
       "0     Italy  Aromas include tropical fruit, broom, brimston...   \n",
       "1  Portugal  This is ripe and fruity, a wine that is smooth...   \n",
       "2        US  Tart and snappy, the flavors of lime flesh and...   \n",
       "3        US  Pineapple rind, lemon pith and orange blossom ...   \n",
       "4        US  Much like the regular bottling from 2012, this...   \n",
       "\n",
       "                          designation  points  price           province  \\\n",
       "0                        Vulkà Bianco      87    NaN  Sicily & Sardinia   \n",
       "1                            Avidagos      87   15.0              Douro   \n",
       "2                                 NaN      87   14.0             Oregon   \n",
       "3                Reserve Late Harvest      87   13.0           Michigan   \n",
       "4  Vintner's Reserve Wild Child Block      87   65.0             Oregon   \n",
       "\n",
       "              region_1           region_2         taster_name  \\\n",
       "0                 Etna                NaN       Kerin O’Keefe   \n",
       "1                  NaN                NaN          Roger Voss   \n",
       "2    Willamette Valley  Willamette Valley        Paul Gregutt   \n",
       "3  Lake Michigan Shore                NaN  Alexander Peartree   \n",
       "4    Willamette Valley  Willamette Valley        Paul Gregutt   \n",
       "\n",
       "  taster_twitter_handle                                              title  \\\n",
       "0          @kerinokeefe                  Nicosia 2013 Vulkà Bianco  (Etna)   \n",
       "1            @vossroger      Quinta dos Avidagos 2011 Avidagos Red (Douro)   \n",
       "2           @paulgwine       Rainstorm 2013 Pinot Gris (Willamette Valley)   \n",
       "3                   NaN  St. Julian 2013 Reserve Late Harvest Riesling ...   \n",
       "4           @paulgwine   Sweet Cheeks 2012 Vintner's Reserve Wild Child...   \n",
       "\n",
       "          variety               winery  \n",
       "0     White Blend              Nicosia  \n",
       "1  Portuguese Red  Quinta dos Avidagos  \n",
       "2      Pinot Gris            Rainstorm  \n",
       "3        Riesling           St. Julian  \n",
       "4      Pinot Noir         Sweet Cheeks  "
      ]
     },
     "execution_count": 10,
     "metadata": {},
     "output_type": "execute_result"
    }
   ],
   "source": [
    "reviews = pd.read_csv(\"winemag-data-130k-v2.csv\", index_col=0)\n",
    "reviews.head()"
   ]
  },
  {
   "cell_type": "code",
   "execution_count": 2,
   "id": "4b5a4248",
   "metadata": {},
   "outputs": [
    {
     "data": {
      "text/html": [
       "        <script type=\"text/javascript\">\n",
       "        window.PlotlyConfig = {MathJaxConfig: 'local'};\n",
       "        if (window.MathJax && window.MathJax.Hub && window.MathJax.Hub.Config) {window.MathJax.Hub.Config({SVG: {font: \"STIX-Web\"}});}\n",
       "        if (typeof require !== 'undefined') {\n",
       "        require.undef(\"plotly\");\n",
       "        requirejs.config({\n",
       "            paths: {\n",
       "                'plotly': ['https://cdn.plot.ly/plotly-2.27.0.min']\n",
       "            }\n",
       "        });\n",
       "        require(['plotly'], function(Plotly) {\n",
       "            window._Plotly = Plotly;\n",
       "        });\n",
       "        }\n",
       "        </script>\n",
       "        "
      ]
     },
     "metadata": {},
     "output_type": "display_data"
    }
   ],
   "source": [
    "from plotly.offline import init_notebook_mode, iplot\n",
    "init_notebook_mode(connected=True)"
   ]
  },
  {
   "cell_type": "code",
   "execution_count": 12,
   "id": "95e412b3",
   "metadata": {},
   "outputs": [
    {
     "data": {
      "application/vnd.plotly.v1+json": {
       "config": {
        "linkText": "Export to plot.ly",
        "plotlyServerURL": "https://plot.ly",
        "showLink": false
       },
       "data": [
        {
         "mode": "markers",
         "type": "scatter",
         "x": [
          87,
          87,
          87,
          87,
          87,
          87,
          87,
          87,
          87,
          87,
          87,
          87,
          87,
          87,
          87,
          87,
          87,
          87,
          87,
          87,
          87,
          87,
          87,
          87,
          87,
          87,
          87,
          87,
          87,
          86,
          86,
          86,
          86,
          86,
          86,
          86,
          86,
          86,
          86,
          86,
          86,
          86,
          86,
          86,
          86,
          86,
          86,
          86,
          86,
          86,
          86,
          85,
          85,
          85,
          85,
          85,
          85,
          85,
          85,
          86,
          86,
          86,
          86,
          86,
          86,
          86,
          86,
          86,
          86,
          86,
          86,
          86,
          86,
          86,
          86,
          86,
          86,
          86,
          86,
          86,
          86,
          86,
          86,
          86,
          86,
          86,
          86,
          86,
          86,
          88,
          88,
          88,
          88,
          88,
          88,
          88,
          88,
          88,
          88,
          88
         ],
         "y": [
          null,
          15,
          14,
          13,
          65,
          15,
          16,
          24,
          12,
          27,
          19,
          30,
          34,
          null,
          12,
          24,
          30,
          13,
          28,
          32,
          23,
          20,
          19,
          22,
          35,
          69,
          13,
          10,
          17,
          16,
          null,
          null,
          null,
          50,
          20,
          50,
          15,
          21,
          11,
          12,
          17,
          22,
          9,
          14,
          9,
          40,
          13,
          13,
          16,
          14,
          null,
          22,
          14,
          15,
          null,
          30,
          14,
          13,
          13,
          55,
          100,
          17,
          25,
          58,
          26,
          24,
          15,
          46,
          12,
          55,
          12,
          40,
          32,
          75,
          55,
          75,
          9,
          18,
          25,
          null,
          12,
          16,
          11,
          20,
          24,
          10,
          20,
          55,
          29,
          19,
          23,
          18,
          55,
          12,
          22,
          20,
          18,
          20,
          30,
          75,
          18,
          20,
          20,
          18,
          16,
          14,
          30,
          18,
          26,
          30,
          23,
          85,
          15,
          19,
          18,
          18,
          25,
          44,
          80,
          80,
          70,
          36,
          39,
          40,
          45,
          45,
          48,
          13,
          17,
          25,
          70,
          20,
          30,
          68,
          78,
          60,
          50,
          null,
          10,
          112,
          26,
          45,
          17,
          84,
          85,
          64,
          68,
          68,
          16,
          35,
          25,
          30,
          55,
          46,
          50,
          36,
          14,
          26,
          38,
          null,
          35,
          35,
          28,
          null,
          29,
          32,
          25,
          28,
          95,
          44,
          30,
          22,
          20,
          38,
          19,
          25,
          50,
          22,
          25,
          27,
          23,
          36,
          null,
          12,
          35,
          15,
          40,
          48,
          11,
          11,
          26,
          30,
          20,
          35,
          null,
          35,
          18,
          23,
          60,
          28,
          null,
          62,
          50,
          28,
          30,
          25,
          25,
          32,
          40,
          16,
          20,
          32,
          40,
          48,
          36,
          80,
          57,
          20,
          20,
          36,
          40,
          40,
          null,
          null,
          22,
          25,
          20,
          15,
          14,
          18,
          16,
          10,
          12,
          28,
          10,
          49,
          85,
          18,
          29,
          36,
          9,
          34,
          15,
          30,
          13,
          12,
          15,
          25,
          45,
          18,
          49,
          22,
          35,
          15,
          45,
          55,
          20,
          18,
          35,
          13,
          40,
          37,
          39,
          60,
          19,
          40,
          14,
          40,
          36,
          17,
          25,
          15,
          26,
          19,
          13,
          30,
          20,
          30,
          50,
          52,
          24,
          34,
          41,
          52,
          215,
          null,
          60,
          40,
          null,
          125,
          null,
          null,
          45,
          70,
          30,
          35,
          20,
          15,
          19,
          null,
          28,
          14,
          null,
          56,
          null,
          24,
          7,
          30,
          18,
          20,
          18,
          18,
          40,
          null,
          28,
          15,
          null,
          null,
          18,
          20,
          22,
          16,
          18,
          35,
          12,
          11,
          15,
          18,
          16,
          34,
          40,
          15,
          19,
          18,
          42,
          15,
          35,
          16,
          11,
          13,
          18,
          48,
          11,
          20,
          19,
          350,
          350,
          775,
          100,
          225,
          150,
          320,
          68,
          630,
          365,
          68,
          85,
          350,
          66,
          110,
          125,
          60,
          200,
          380,
          48,
          60,
          21,
          10,
          11,
          21,
          160,
          23,
          10,
          15,
          19,
          40,
          18,
          null,
          18,
          15,
          12,
          11,
          15,
          9,
          30,
          18,
          34,
          17,
          25,
          15,
          12,
          14,
          12,
          11,
          12,
          null,
          16,
          15,
          13,
          24,
          13,
          19,
          11,
          15,
          45,
          19,
          30,
          14,
          15,
          20,
          20,
          12,
          20,
          13,
          16,
          14,
          14,
          null,
          null,
          20,
          null,
          30,
          20,
          23,
          30,
          18,
          18,
          35,
          17,
          42,
          30,
          24,
          16,
          27,
          89,
          null,
          15,
          54,
          15,
          42,
          38,
          12,
          35,
          32,
          12,
          28,
          20,
          14,
          19,
          39,
          null,
          35,
          null,
          69,
          30,
          40,
          23,
          45,
          50,
          100,
          50,
          29,
          66,
          60,
          115,
          69,
          null,
          65,
          42,
          27,
          70,
          73,
          72,
          34,
          null,
          130,
          88,
          65,
          null,
          15,
          45,
          18,
          60,
          12,
          12,
          13,
          13,
          15,
          18,
          13,
          19,
          18,
          30,
          35,
          12,
          18,
          25,
          30,
          17,
          20,
          11,
          15,
          18,
          19,
          15,
          16,
          12,
          28,
          28,
          65,
          48,
          70,
          59,
          90,
          35,
          75,
          55,
          55,
          60,
          36,
          35,
          35,
          55,
          65,
          35,
          49,
          55,
          30,
          42,
          45,
          24,
          50,
          50,
          50,
          38,
          22,
          50,
          110,
          45,
          42,
          60,
          42,
          30,
          75,
          54,
          85,
          50,
          150,
          85,
          90,
          35,
          46,
          20,
          42,
          40,
          75,
          88,
          40,
          25,
          48,
          45,
          50,
          65,
          48,
          62,
          100,
          53,
          55,
          70,
          38,
          50,
          25,
          15,
          14,
          11,
          14,
          37,
          17,
          15,
          13,
          18,
          26,
          18,
          32,
          18,
          25,
          18,
          20,
          18,
          null,
          17,
          13,
          41,
          16,
          20,
          30,
          13,
          24,
          36,
          20,
          19,
          15,
          69,
          36,
          35,
          30,
          25,
          25,
          15,
          20,
          17,
          54,
          40,
          12,
          19,
          11,
          45,
          25,
          35,
          16,
          20,
          28,
          25,
          28,
          20,
          15,
          23,
          19,
          35,
          75,
          48,
          54,
          34,
          60,
          48,
          28,
          125,
          45,
          36,
          30,
          37,
          25,
          30,
          60,
          40,
          50,
          23,
          80,
          34,
          75,
          24,
          39,
          21,
          35,
          43,
          30,
          70,
          50,
          40,
          45,
          80,
          15,
          65,
          65,
          35,
          25,
          20,
          15,
          26,
          30,
          13,
          45,
          26,
          44,
          38,
          28,
          32,
          50,
          35,
          35,
          25,
          42,
          45,
          70,
          30,
          75,
          53,
          29,
          90,
          35,
          35,
          50,
          35,
          65,
          50,
          43,
          28,
          null,
          20,
          40,
          30,
          65,
          17,
          null,
          20,
          28,
          20,
          20,
          25,
          38,
          120,
          23,
          48,
          32,
          50,
          28,
          30,
          25,
          8,
          15,
          22,
          14,
          25,
          8,
          14,
          80,
          9,
          13,
          17,
          10,
          16,
          10,
          22,
          40,
          15,
          17,
          32,
          12,
          17,
          102,
          null,
          10,
          20,
          33,
          48,
          12,
          9,
          24,
          75,
          12,
          45,
          13,
          null,
          22,
          10,
          18,
          35,
          36,
          34,
          70,
          28,
          19,
          14,
          10,
          45,
          32,
          18,
          9,
          11,
          30,
          62,
          40,
          66,
          32,
          70,
          48,
          72,
          18,
          105,
          101,
          50,
          85,
          35,
          38,
          32,
          25,
          12,
          125,
          46,
          29,
          17,
          85,
          30,
          34,
          22,
          35,
          45,
          20,
          17,
          45,
          20,
          50,
          22,
          39,
          35,
          15,
          27,
          66,
          32,
          20,
          125,
          16,
          42,
          22,
          null,
          18,
          22,
          12,
          15,
          9,
          12,
          15,
          20,
          28,
          10,
          70,
          28,
          11,
          30,
          26,
          15,
          23,
          null,
          30,
          10,
          12,
          13,
          15,
          36,
          20,
          null,
          10,
          16,
          25,
          24,
          null,
          24,
          33,
          null,
          70,
          117,
          null,
          16,
          30,
          20,
          35,
          25,
          28,
          15,
          150,
          45,
          30,
          19,
          45,
          40,
          null,
          25,
          40,
          15,
          42,
          29,
          42,
          18,
          16,
          40,
          null,
          50,
          null,
          35,
          45,
          20,
          44,
          22,
          null,
          28,
          27,
          25,
          60,
          72,
          44,
          28,
          29,
          58,
          15,
          29,
          45,
          70,
          39,
          null,
          28,
          48,
          50,
          22,
          10,
          50,
          30,
          18,
          30,
          39,
          35,
          30,
          23,
          18,
          30,
          20,
          25,
          20,
          50,
          50,
          15,
          null,
          9,
          12,
          14,
          18,
          20,
          175,
          12,
          60,
          20,
          15,
          35,
          14,
          16,
          15,
          14,
          40,
          29,
          15,
          55,
          38,
          15,
          34,
          18,
          27,
          17,
          65,
          13,
          15,
          23,
          40,
          32,
          16,
          38,
          15,
          50,
          30,
          24,
          18,
          40,
          18,
          20,
          40,
          11,
          17,
          48,
          9,
          10,
          null,
          9,
          19,
          15,
          23,
          35,
          30,
          12,
          17,
          16,
          15,
          10,
          41,
          10,
          16,
          25,
          12,
          20,
          null,
          25,
          20,
          53,
          12,
          null,
          14,
          12,
          22,
          26,
          14,
          18,
          18,
          17
         ]
        }
       ],
       "layout": {
        "template": {
         "data": {
          "bar": [
           {
            "error_x": {
             "color": "#2a3f5f"
            },
            "error_y": {
             "color": "#2a3f5f"
            },
            "marker": {
             "line": {
              "color": "#E5ECF6",
              "width": 0.5
             },
             "pattern": {
              "fillmode": "overlay",
              "size": 10,
              "solidity": 0.2
             }
            },
            "type": "bar"
           }
          ],
          "barpolar": [
           {
            "marker": {
             "line": {
              "color": "#E5ECF6",
              "width": 0.5
             },
             "pattern": {
              "fillmode": "overlay",
              "size": 10,
              "solidity": 0.2
             }
            },
            "type": "barpolar"
           }
          ],
          "carpet": [
           {
            "aaxis": {
             "endlinecolor": "#2a3f5f",
             "gridcolor": "white",
             "linecolor": "white",
             "minorgridcolor": "white",
             "startlinecolor": "#2a3f5f"
            },
            "baxis": {
             "endlinecolor": "#2a3f5f",
             "gridcolor": "white",
             "linecolor": "white",
             "minorgridcolor": "white",
             "startlinecolor": "#2a3f5f"
            },
            "type": "carpet"
           }
          ],
          "choropleth": [
           {
            "colorbar": {
             "outlinewidth": 0,
             "ticks": ""
            },
            "type": "choropleth"
           }
          ],
          "contour": [
           {
            "colorbar": {
             "outlinewidth": 0,
             "ticks": ""
            },
            "colorscale": [
             [
              0,
              "#0d0887"
             ],
             [
              0.1111111111111111,
              "#46039f"
             ],
             [
              0.2222222222222222,
              "#7201a8"
             ],
             [
              0.3333333333333333,
              "#9c179e"
             ],
             [
              0.4444444444444444,
              "#bd3786"
             ],
             [
              0.5555555555555556,
              "#d8576b"
             ],
             [
              0.6666666666666666,
              "#ed7953"
             ],
             [
              0.7777777777777778,
              "#fb9f3a"
             ],
             [
              0.8888888888888888,
              "#fdca26"
             ],
             [
              1,
              "#f0f921"
             ]
            ],
            "type": "contour"
           }
          ],
          "contourcarpet": [
           {
            "colorbar": {
             "outlinewidth": 0,
             "ticks": ""
            },
            "type": "contourcarpet"
           }
          ],
          "heatmap": [
           {
            "colorbar": {
             "outlinewidth": 0,
             "ticks": ""
            },
            "colorscale": [
             [
              0,
              "#0d0887"
             ],
             [
              0.1111111111111111,
              "#46039f"
             ],
             [
              0.2222222222222222,
              "#7201a8"
             ],
             [
              0.3333333333333333,
              "#9c179e"
             ],
             [
              0.4444444444444444,
              "#bd3786"
             ],
             [
              0.5555555555555556,
              "#d8576b"
             ],
             [
              0.6666666666666666,
              "#ed7953"
             ],
             [
              0.7777777777777778,
              "#fb9f3a"
             ],
             [
              0.8888888888888888,
              "#fdca26"
             ],
             [
              1,
              "#f0f921"
             ]
            ],
            "type": "heatmap"
           }
          ],
          "heatmapgl": [
           {
            "colorbar": {
             "outlinewidth": 0,
             "ticks": ""
            },
            "colorscale": [
             [
              0,
              "#0d0887"
             ],
             [
              0.1111111111111111,
              "#46039f"
             ],
             [
              0.2222222222222222,
              "#7201a8"
             ],
             [
              0.3333333333333333,
              "#9c179e"
             ],
             [
              0.4444444444444444,
              "#bd3786"
             ],
             [
              0.5555555555555556,
              "#d8576b"
             ],
             [
              0.6666666666666666,
              "#ed7953"
             ],
             [
              0.7777777777777778,
              "#fb9f3a"
             ],
             [
              0.8888888888888888,
              "#fdca26"
             ],
             [
              1,
              "#f0f921"
             ]
            ],
            "type": "heatmapgl"
           }
          ],
          "histogram": [
           {
            "marker": {
             "pattern": {
              "fillmode": "overlay",
              "size": 10,
              "solidity": 0.2
             }
            },
            "type": "histogram"
           }
          ],
          "histogram2d": [
           {
            "colorbar": {
             "outlinewidth": 0,
             "ticks": ""
            },
            "colorscale": [
             [
              0,
              "#0d0887"
             ],
             [
              0.1111111111111111,
              "#46039f"
             ],
             [
              0.2222222222222222,
              "#7201a8"
             ],
             [
              0.3333333333333333,
              "#9c179e"
             ],
             [
              0.4444444444444444,
              "#bd3786"
             ],
             [
              0.5555555555555556,
              "#d8576b"
             ],
             [
              0.6666666666666666,
              "#ed7953"
             ],
             [
              0.7777777777777778,
              "#fb9f3a"
             ],
             [
              0.8888888888888888,
              "#fdca26"
             ],
             [
              1,
              "#f0f921"
             ]
            ],
            "type": "histogram2d"
           }
          ],
          "histogram2dcontour": [
           {
            "colorbar": {
             "outlinewidth": 0,
             "ticks": ""
            },
            "colorscale": [
             [
              0,
              "#0d0887"
             ],
             [
              0.1111111111111111,
              "#46039f"
             ],
             [
              0.2222222222222222,
              "#7201a8"
             ],
             [
              0.3333333333333333,
              "#9c179e"
             ],
             [
              0.4444444444444444,
              "#bd3786"
             ],
             [
              0.5555555555555556,
              "#d8576b"
             ],
             [
              0.6666666666666666,
              "#ed7953"
             ],
             [
              0.7777777777777778,
              "#fb9f3a"
             ],
             [
              0.8888888888888888,
              "#fdca26"
             ],
             [
              1,
              "#f0f921"
             ]
            ],
            "type": "histogram2dcontour"
           }
          ],
          "mesh3d": [
           {
            "colorbar": {
             "outlinewidth": 0,
             "ticks": ""
            },
            "type": "mesh3d"
           }
          ],
          "parcoords": [
           {
            "line": {
             "colorbar": {
              "outlinewidth": 0,
              "ticks": ""
             }
            },
            "type": "parcoords"
           }
          ],
          "pie": [
           {
            "automargin": true,
            "type": "pie"
           }
          ],
          "scatter": [
           {
            "fillpattern": {
             "fillmode": "overlay",
             "size": 10,
             "solidity": 0.2
            },
            "type": "scatter"
           }
          ],
          "scatter3d": [
           {
            "line": {
             "colorbar": {
              "outlinewidth": 0,
              "ticks": ""
             }
            },
            "marker": {
             "colorbar": {
              "outlinewidth": 0,
              "ticks": ""
             }
            },
            "type": "scatter3d"
           }
          ],
          "scattercarpet": [
           {
            "marker": {
             "colorbar": {
              "outlinewidth": 0,
              "ticks": ""
             }
            },
            "type": "scattercarpet"
           }
          ],
          "scattergeo": [
           {
            "marker": {
             "colorbar": {
              "outlinewidth": 0,
              "ticks": ""
             }
            },
            "type": "scattergeo"
           }
          ],
          "scattergl": [
           {
            "marker": {
             "colorbar": {
              "outlinewidth": 0,
              "ticks": ""
             }
            },
            "type": "scattergl"
           }
          ],
          "scattermapbox": [
           {
            "marker": {
             "colorbar": {
              "outlinewidth": 0,
              "ticks": ""
             }
            },
            "type": "scattermapbox"
           }
          ],
          "scatterpolar": [
           {
            "marker": {
             "colorbar": {
              "outlinewidth": 0,
              "ticks": ""
             }
            },
            "type": "scatterpolar"
           }
          ],
          "scatterpolargl": [
           {
            "marker": {
             "colorbar": {
              "outlinewidth": 0,
              "ticks": ""
             }
            },
            "type": "scatterpolargl"
           }
          ],
          "scatterternary": [
           {
            "marker": {
             "colorbar": {
              "outlinewidth": 0,
              "ticks": ""
             }
            },
            "type": "scatterternary"
           }
          ],
          "surface": [
           {
            "colorbar": {
             "outlinewidth": 0,
             "ticks": ""
            },
            "colorscale": [
             [
              0,
              "#0d0887"
             ],
             [
              0.1111111111111111,
              "#46039f"
             ],
             [
              0.2222222222222222,
              "#7201a8"
             ],
             [
              0.3333333333333333,
              "#9c179e"
             ],
             [
              0.4444444444444444,
              "#bd3786"
             ],
             [
              0.5555555555555556,
              "#d8576b"
             ],
             [
              0.6666666666666666,
              "#ed7953"
             ],
             [
              0.7777777777777778,
              "#fb9f3a"
             ],
             [
              0.8888888888888888,
              "#fdca26"
             ],
             [
              1,
              "#f0f921"
             ]
            ],
            "type": "surface"
           }
          ],
          "table": [
           {
            "cells": {
             "fill": {
              "color": "#EBF0F8"
             },
             "line": {
              "color": "white"
             }
            },
            "header": {
             "fill": {
              "color": "#C8D4E3"
             },
             "line": {
              "color": "white"
             }
            },
            "type": "table"
           }
          ]
         },
         "layout": {
          "annotationdefaults": {
           "arrowcolor": "#2a3f5f",
           "arrowhead": 0,
           "arrowwidth": 1
          },
          "autotypenumbers": "strict",
          "coloraxis": {
           "colorbar": {
            "outlinewidth": 0,
            "ticks": ""
           }
          },
          "colorscale": {
           "diverging": [
            [
             0,
             "#8e0152"
            ],
            [
             0.1,
             "#c51b7d"
            ],
            [
             0.2,
             "#de77ae"
            ],
            [
             0.3,
             "#f1b6da"
            ],
            [
             0.4,
             "#fde0ef"
            ],
            [
             0.5,
             "#f7f7f7"
            ],
            [
             0.6,
             "#e6f5d0"
            ],
            [
             0.7,
             "#b8e186"
            ],
            [
             0.8,
             "#7fbc41"
            ],
            [
             0.9,
             "#4d9221"
            ],
            [
             1,
             "#276419"
            ]
           ],
           "sequential": [
            [
             0,
             "#0d0887"
            ],
            [
             0.1111111111111111,
             "#46039f"
            ],
            [
             0.2222222222222222,
             "#7201a8"
            ],
            [
             0.3333333333333333,
             "#9c179e"
            ],
            [
             0.4444444444444444,
             "#bd3786"
            ],
            [
             0.5555555555555556,
             "#d8576b"
            ],
            [
             0.6666666666666666,
             "#ed7953"
            ],
            [
             0.7777777777777778,
             "#fb9f3a"
            ],
            [
             0.8888888888888888,
             "#fdca26"
            ],
            [
             1,
             "#f0f921"
            ]
           ],
           "sequentialminus": [
            [
             0,
             "#0d0887"
            ],
            [
             0.1111111111111111,
             "#46039f"
            ],
            [
             0.2222222222222222,
             "#7201a8"
            ],
            [
             0.3333333333333333,
             "#9c179e"
            ],
            [
             0.4444444444444444,
             "#bd3786"
            ],
            [
             0.5555555555555556,
             "#d8576b"
            ],
            [
             0.6666666666666666,
             "#ed7953"
            ],
            [
             0.7777777777777778,
             "#fb9f3a"
            ],
            [
             0.8888888888888888,
             "#fdca26"
            ],
            [
             1,
             "#f0f921"
            ]
           ]
          },
          "colorway": [
           "#636efa",
           "#EF553B",
           "#00cc96",
           "#ab63fa",
           "#FFA15A",
           "#19d3f3",
           "#FF6692",
           "#B6E880",
           "#FF97FF",
           "#FECB52"
          ],
          "font": {
           "color": "#2a3f5f"
          },
          "geo": {
           "bgcolor": "white",
           "lakecolor": "white",
           "landcolor": "#E5ECF6",
           "showlakes": true,
           "showland": true,
           "subunitcolor": "white"
          },
          "hoverlabel": {
           "align": "left"
          },
          "hovermode": "closest",
          "mapbox": {
           "style": "light"
          },
          "paper_bgcolor": "white",
          "plot_bgcolor": "#E5ECF6",
          "polar": {
           "angularaxis": {
            "gridcolor": "white",
            "linecolor": "white",
            "ticks": ""
           },
           "bgcolor": "#E5ECF6",
           "radialaxis": {
            "gridcolor": "white",
            "linecolor": "white",
            "ticks": ""
           }
          },
          "scene": {
           "xaxis": {
            "backgroundcolor": "#E5ECF6",
            "gridcolor": "white",
            "gridwidth": 2,
            "linecolor": "white",
            "showbackground": true,
            "ticks": "",
            "zerolinecolor": "white"
           },
           "yaxis": {
            "backgroundcolor": "#E5ECF6",
            "gridcolor": "white",
            "gridwidth": 2,
            "linecolor": "white",
            "showbackground": true,
            "ticks": "",
            "zerolinecolor": "white"
           },
           "zaxis": {
            "backgroundcolor": "#E5ECF6",
            "gridcolor": "white",
            "gridwidth": 2,
            "linecolor": "white",
            "showbackground": true,
            "ticks": "",
            "zerolinecolor": "white"
           }
          },
          "shapedefaults": {
           "line": {
            "color": "#2a3f5f"
           }
          },
          "ternary": {
           "aaxis": {
            "gridcolor": "white",
            "linecolor": "white",
            "ticks": ""
           },
           "baxis": {
            "gridcolor": "white",
            "linecolor": "white",
            "ticks": ""
           },
           "bgcolor": "#E5ECF6",
           "caxis": {
            "gridcolor": "white",
            "linecolor": "white",
            "ticks": ""
           }
          },
          "title": {
           "x": 0.05
          },
          "xaxis": {
           "automargin": true,
           "gridcolor": "white",
           "linecolor": "white",
           "ticks": "",
           "title": {
            "standoff": 15
           },
           "zerolinecolor": "white",
           "zerolinewidth": 2
          },
          "yaxis": {
           "automargin": true,
           "gridcolor": "white",
           "linecolor": "white",
           "ticks": "",
           "title": {
            "standoff": 15
           },
           "zerolinecolor": "white",
           "zerolinewidth": 2
          }
         }
        }
       }
      },
      "text/html": [
       "<div>                            <div id=\"d6a86bf8-2cb8-4fb2-b0cd-17e40507143e\" class=\"plotly-graph-div\" style=\"height:525px; width:100%;\"></div>            <script type=\"text/javascript\">                require([\"plotly\"], function(Plotly) {                    window.PLOTLYENV=window.PLOTLYENV || {};                                    if (document.getElementById(\"d6a86bf8-2cb8-4fb2-b0cd-17e40507143e\")) {                    Plotly.newPlot(                        \"d6a86bf8-2cb8-4fb2-b0cd-17e40507143e\",                        [{\"mode\":\"markers\",\"x\":[87,87,87,87,87,87,87,87,87,87,87,87,87,87,87,87,87,87,87,87,87,87,87,87,87,87,87,87,87,86,86,86,86,86,86,86,86,86,86,86,86,86,86,86,86,86,86,86,86,86,86,85,85,85,85,85,85,85,85,86,86,86,86,86,86,86,86,86,86,86,86,86,86,86,86,86,86,86,86,86,86,86,86,86,86,86,86,86,86,88,88,88,88,88,88,88,88,88,88,88],\"y\":[null,15.0,14.0,13.0,65.0,15.0,16.0,24.0,12.0,27.0,19.0,30.0,34.0,null,12.0,24.0,30.0,13.0,28.0,32.0,23.0,20.0,19.0,22.0,35.0,69.0,13.0,10.0,17.0,16.0,null,null,null,50.0,20.0,50.0,15.0,21.0,11.0,12.0,17.0,22.0,9.0,14.0,9.0,40.0,13.0,13.0,16.0,14.0,null,22.0,14.0,15.0,null,30.0,14.0,13.0,13.0,55.0,100.0,17.0,25.0,58.0,26.0,24.0,15.0,46.0,12.0,55.0,12.0,40.0,32.0,75.0,55.0,75.0,9.0,18.0,25.0,null,12.0,16.0,11.0,20.0,24.0,10.0,20.0,55.0,29.0,19.0,23.0,18.0,55.0,12.0,22.0,20.0,18.0,20.0,30.0,75.0,18.0,20.0,20.0,18.0,16.0,14.0,30.0,18.0,26.0,30.0,23.0,85.0,15.0,19.0,18.0,18.0,25.0,44.0,80.0,80.0,70.0,36.0,39.0,40.0,45.0,45.0,48.0,13.0,17.0,25.0,70.0,20.0,30.0,68.0,78.0,60.0,50.0,null,10.0,112.0,26.0,45.0,17.0,84.0,85.0,64.0,68.0,68.0,16.0,35.0,25.0,30.0,55.0,46.0,50.0,36.0,14.0,26.0,38.0,null,35.0,35.0,28.0,null,29.0,32.0,25.0,28.0,95.0,44.0,30.0,22.0,20.0,38.0,19.0,25.0,50.0,22.0,25.0,27.0,23.0,36.0,null,12.0,35.0,15.0,40.0,48.0,11.0,11.0,26.0,30.0,20.0,35.0,null,35.0,18.0,23.0,60.0,28.0,null,62.0,50.0,28.0,30.0,25.0,25.0,32.0,40.0,16.0,20.0,32.0,40.0,48.0,36.0,80.0,57.0,20.0,20.0,36.0,40.0,40.0,null,null,22.0,25.0,20.0,15.0,14.0,18.0,16.0,10.0,12.0,28.0,10.0,49.0,85.0,18.0,29.0,36.0,9.0,34.0,15.0,30.0,13.0,12.0,15.0,25.0,45.0,18.0,49.0,22.0,35.0,15.0,45.0,55.0,20.0,18.0,35.0,13.0,40.0,37.0,39.0,60.0,19.0,40.0,14.0,40.0,36.0,17.0,25.0,15.0,26.0,19.0,13.0,30.0,20.0,30.0,50.0,52.0,24.0,34.0,41.0,52.0,215.0,null,60.0,40.0,null,125.0,null,null,45.0,70.0,30.0,35.0,20.0,15.0,19.0,null,28.0,14.0,null,56.0,null,24.0,7.0,30.0,18.0,20.0,18.0,18.0,40.0,null,28.0,15.0,null,null,18.0,20.0,22.0,16.0,18.0,35.0,12.0,11.0,15.0,18.0,16.0,34.0,40.0,15.0,19.0,18.0,42.0,15.0,35.0,16.0,11.0,13.0,18.0,48.0,11.0,20.0,19.0,350.0,350.0,775.0,100.0,225.0,150.0,320.0,68.0,630.0,365.0,68.0,85.0,350.0,66.0,110.0,125.0,60.0,200.0,380.0,48.0,60.0,21.0,10.0,11.0,21.0,160.0,23.0,10.0,15.0,19.0,40.0,18.0,null,18.0,15.0,12.0,11.0,15.0,9.0,30.0,18.0,34.0,17.0,25.0,15.0,12.0,14.0,12.0,11.0,12.0,null,16.0,15.0,13.0,24.0,13.0,19.0,11.0,15.0,45.0,19.0,30.0,14.0,15.0,20.0,20.0,12.0,20.0,13.0,16.0,14.0,14.0,null,null,20.0,null,30.0,20.0,23.0,30.0,18.0,18.0,35.0,17.0,42.0,30.0,24.0,16.0,27.0,89.0,null,15.0,54.0,15.0,42.0,38.0,12.0,35.0,32.0,12.0,28.0,20.0,14.0,19.0,39.0,null,35.0,null,69.0,30.0,40.0,23.0,45.0,50.0,100.0,50.0,29.0,66.0,60.0,115.0,69.0,null,65.0,42.0,27.0,70.0,73.0,72.0,34.0,null,130.0,88.0,65.0,null,15.0,45.0,18.0,60.0,12.0,12.0,13.0,13.0,15.0,18.0,13.0,19.0,18.0,30.0,35.0,12.0,18.0,25.0,30.0,17.0,20.0,11.0,15.0,18.0,19.0,15.0,16.0,12.0,28.0,28.0,65.0,48.0,70.0,59.0,90.0,35.0,75.0,55.0,55.0,60.0,36.0,35.0,35.0,55.0,65.0,35.0,49.0,55.0,30.0,42.0,45.0,24.0,50.0,50.0,50.0,38.0,22.0,50.0,110.0,45.0,42.0,60.0,42.0,30.0,75.0,54.0,85.0,50.0,150.0,85.0,90.0,35.0,46.0,20.0,42.0,40.0,75.0,88.0,40.0,25.0,48.0,45.0,50.0,65.0,48.0,62.0,100.0,53.0,55.0,70.0,38.0,50.0,25.0,15.0,14.0,11.0,14.0,37.0,17.0,15.0,13.0,18.0,26.0,18.0,32.0,18.0,25.0,18.0,20.0,18.0,null,17.0,13.0,41.0,16.0,20.0,30.0,13.0,24.0,36.0,20.0,19.0,15.0,69.0,36.0,35.0,30.0,25.0,25.0,15.0,20.0,17.0,54.0,40.0,12.0,19.0,11.0,45.0,25.0,35.0,16.0,20.0,28.0,25.0,28.0,20.0,15.0,23.0,19.0,35.0,75.0,48.0,54.0,34.0,60.0,48.0,28.0,125.0,45.0,36.0,30.0,37.0,25.0,30.0,60.0,40.0,50.0,23.0,80.0,34.0,75.0,24.0,39.0,21.0,35.0,43.0,30.0,70.0,50.0,40.0,45.0,80.0,15.0,65.0,65.0,35.0,25.0,20.0,15.0,26.0,30.0,13.0,45.0,26.0,44.0,38.0,28.0,32.0,50.0,35.0,35.0,25.0,42.0,45.0,70.0,30.0,75.0,53.0,29.0,90.0,35.0,35.0,50.0,35.0,65.0,50.0,43.0,28.0,null,20.0,40.0,30.0,65.0,17.0,null,20.0,28.0,20.0,20.0,25.0,38.0,120.0,23.0,48.0,32.0,50.0,28.0,30.0,25.0,8.0,15.0,22.0,14.0,25.0,8.0,14.0,80.0,9.0,13.0,17.0,10.0,16.0,10.0,22.0,40.0,15.0,17.0,32.0,12.0,17.0,102.0,null,10.0,20.0,33.0,48.0,12.0,9.0,24.0,75.0,12.0,45.0,13.0,null,22.0,10.0,18.0,35.0,36.0,34.0,70.0,28.0,19.0,14.0,10.0,45.0,32.0,18.0,9.0,11.0,30.0,62.0,40.0,66.0,32.0,70.0,48.0,72.0,18.0,105.0,101.0,50.0,85.0,35.0,38.0,32.0,25.0,12.0,125.0,46.0,29.0,17.0,85.0,30.0,34.0,22.0,35.0,45.0,20.0,17.0,45.0,20.0,50.0,22.0,39.0,35.0,15.0,27.0,66.0,32.0,20.0,125.0,16.0,42.0,22.0,null,18.0,22.0,12.0,15.0,9.0,12.0,15.0,20.0,28.0,10.0,70.0,28.0,11.0,30.0,26.0,15.0,23.0,null,30.0,10.0,12.0,13.0,15.0,36.0,20.0,null,10.0,16.0,25.0,24.0,null,24.0,33.0,null,70.0,117.0,null,16.0,30.0,20.0,35.0,25.0,28.0,15.0,150.0,45.0,30.0,19.0,45.0,40.0,null,25.0,40.0,15.0,42.0,29.0,42.0,18.0,16.0,40.0,null,50.0,null,35.0,45.0,20.0,44.0,22.0,null,28.0,27.0,25.0,60.0,72.0,44.0,28.0,29.0,58.0,15.0,29.0,45.0,70.0,39.0,null,28.0,48.0,50.0,22.0,10.0,50.0,30.0,18.0,30.0,39.0,35.0,30.0,23.0,18.0,30.0,20.0,25.0,20.0,50.0,50.0,15.0,null,9.0,12.0,14.0,18.0,20.0,175.0,12.0,60.0,20.0,15.0,35.0,14.0,16.0,15.0,14.0,40.0,29.0,15.0,55.0,38.0,15.0,34.0,18.0,27.0,17.0,65.0,13.0,15.0,23.0,40.0,32.0,16.0,38.0,15.0,50.0,30.0,24.0,18.0,40.0,18.0,20.0,40.0,11.0,17.0,48.0,9.0,10.0,null,9.0,19.0,15.0,23.0,35.0,30.0,12.0,17.0,16.0,15.0,10.0,41.0,10.0,16.0,25.0,12.0,20.0,null,25.0,20.0,53.0,12.0,null,14.0,12.0,22.0,26.0,14.0,18.0,18.0,17.0],\"type\":\"scatter\"}],                        {\"template\":{\"data\":{\"barpolar\":[{\"marker\":{\"line\":{\"color\":\"#E5ECF6\",\"width\":0.5},\"pattern\":{\"fillmode\":\"overlay\",\"size\":10,\"solidity\":0.2}},\"type\":\"barpolar\"}],\"bar\":[{\"error_x\":{\"color\":\"#2a3f5f\"},\"error_y\":{\"color\":\"#2a3f5f\"},\"marker\":{\"line\":{\"color\":\"#E5ECF6\",\"width\":0.5},\"pattern\":{\"fillmode\":\"overlay\",\"size\":10,\"solidity\":0.2}},\"type\":\"bar\"}],\"carpet\":[{\"aaxis\":{\"endlinecolor\":\"#2a3f5f\",\"gridcolor\":\"white\",\"linecolor\":\"white\",\"minorgridcolor\":\"white\",\"startlinecolor\":\"#2a3f5f\"},\"baxis\":{\"endlinecolor\":\"#2a3f5f\",\"gridcolor\":\"white\",\"linecolor\":\"white\",\"minorgridcolor\":\"white\",\"startlinecolor\":\"#2a3f5f\"},\"type\":\"carpet\"}],\"choropleth\":[{\"colorbar\":{\"outlinewidth\":0,\"ticks\":\"\"},\"type\":\"choropleth\"}],\"contourcarpet\":[{\"colorbar\":{\"outlinewidth\":0,\"ticks\":\"\"},\"type\":\"contourcarpet\"}],\"contour\":[{\"colorbar\":{\"outlinewidth\":0,\"ticks\":\"\"},\"colorscale\":[[0.0,\"#0d0887\"],[0.1111111111111111,\"#46039f\"],[0.2222222222222222,\"#7201a8\"],[0.3333333333333333,\"#9c179e\"],[0.4444444444444444,\"#bd3786\"],[0.5555555555555556,\"#d8576b\"],[0.6666666666666666,\"#ed7953\"],[0.7777777777777778,\"#fb9f3a\"],[0.8888888888888888,\"#fdca26\"],[1.0,\"#f0f921\"]],\"type\":\"contour\"}],\"heatmapgl\":[{\"colorbar\":{\"outlinewidth\":0,\"ticks\":\"\"},\"colorscale\":[[0.0,\"#0d0887\"],[0.1111111111111111,\"#46039f\"],[0.2222222222222222,\"#7201a8\"],[0.3333333333333333,\"#9c179e\"],[0.4444444444444444,\"#bd3786\"],[0.5555555555555556,\"#d8576b\"],[0.6666666666666666,\"#ed7953\"],[0.7777777777777778,\"#fb9f3a\"],[0.8888888888888888,\"#fdca26\"],[1.0,\"#f0f921\"]],\"type\":\"heatmapgl\"}],\"heatmap\":[{\"colorbar\":{\"outlinewidth\":0,\"ticks\":\"\"},\"colorscale\":[[0.0,\"#0d0887\"],[0.1111111111111111,\"#46039f\"],[0.2222222222222222,\"#7201a8\"],[0.3333333333333333,\"#9c179e\"],[0.4444444444444444,\"#bd3786\"],[0.5555555555555556,\"#d8576b\"],[0.6666666666666666,\"#ed7953\"],[0.7777777777777778,\"#fb9f3a\"],[0.8888888888888888,\"#fdca26\"],[1.0,\"#f0f921\"]],\"type\":\"heatmap\"}],\"histogram2dcontour\":[{\"colorbar\":{\"outlinewidth\":0,\"ticks\":\"\"},\"colorscale\":[[0.0,\"#0d0887\"],[0.1111111111111111,\"#46039f\"],[0.2222222222222222,\"#7201a8\"],[0.3333333333333333,\"#9c179e\"],[0.4444444444444444,\"#bd3786\"],[0.5555555555555556,\"#d8576b\"],[0.6666666666666666,\"#ed7953\"],[0.7777777777777778,\"#fb9f3a\"],[0.8888888888888888,\"#fdca26\"],[1.0,\"#f0f921\"]],\"type\":\"histogram2dcontour\"}],\"histogram2d\":[{\"colorbar\":{\"outlinewidth\":0,\"ticks\":\"\"},\"colorscale\":[[0.0,\"#0d0887\"],[0.1111111111111111,\"#46039f\"],[0.2222222222222222,\"#7201a8\"],[0.3333333333333333,\"#9c179e\"],[0.4444444444444444,\"#bd3786\"],[0.5555555555555556,\"#d8576b\"],[0.6666666666666666,\"#ed7953\"],[0.7777777777777778,\"#fb9f3a\"],[0.8888888888888888,\"#fdca26\"],[1.0,\"#f0f921\"]],\"type\":\"histogram2d\"}],\"histogram\":[{\"marker\":{\"pattern\":{\"fillmode\":\"overlay\",\"size\":10,\"solidity\":0.2}},\"type\":\"histogram\"}],\"mesh3d\":[{\"colorbar\":{\"outlinewidth\":0,\"ticks\":\"\"},\"type\":\"mesh3d\"}],\"parcoords\":[{\"line\":{\"colorbar\":{\"outlinewidth\":0,\"ticks\":\"\"}},\"type\":\"parcoords\"}],\"pie\":[{\"automargin\":true,\"type\":\"pie\"}],\"scatter3d\":[{\"line\":{\"colorbar\":{\"outlinewidth\":0,\"ticks\":\"\"}},\"marker\":{\"colorbar\":{\"outlinewidth\":0,\"ticks\":\"\"}},\"type\":\"scatter3d\"}],\"scattercarpet\":[{\"marker\":{\"colorbar\":{\"outlinewidth\":0,\"ticks\":\"\"}},\"type\":\"scattercarpet\"}],\"scattergeo\":[{\"marker\":{\"colorbar\":{\"outlinewidth\":0,\"ticks\":\"\"}},\"type\":\"scattergeo\"}],\"scattergl\":[{\"marker\":{\"colorbar\":{\"outlinewidth\":0,\"ticks\":\"\"}},\"type\":\"scattergl\"}],\"scattermapbox\":[{\"marker\":{\"colorbar\":{\"outlinewidth\":0,\"ticks\":\"\"}},\"type\":\"scattermapbox\"}],\"scatterpolargl\":[{\"marker\":{\"colorbar\":{\"outlinewidth\":0,\"ticks\":\"\"}},\"type\":\"scatterpolargl\"}],\"scatterpolar\":[{\"marker\":{\"colorbar\":{\"outlinewidth\":0,\"ticks\":\"\"}},\"type\":\"scatterpolar\"}],\"scatter\":[{\"fillpattern\":{\"fillmode\":\"overlay\",\"size\":10,\"solidity\":0.2},\"type\":\"scatter\"}],\"scatterternary\":[{\"marker\":{\"colorbar\":{\"outlinewidth\":0,\"ticks\":\"\"}},\"type\":\"scatterternary\"}],\"surface\":[{\"colorbar\":{\"outlinewidth\":0,\"ticks\":\"\"},\"colorscale\":[[0.0,\"#0d0887\"],[0.1111111111111111,\"#46039f\"],[0.2222222222222222,\"#7201a8\"],[0.3333333333333333,\"#9c179e\"],[0.4444444444444444,\"#bd3786\"],[0.5555555555555556,\"#d8576b\"],[0.6666666666666666,\"#ed7953\"],[0.7777777777777778,\"#fb9f3a\"],[0.8888888888888888,\"#fdca26\"],[1.0,\"#f0f921\"]],\"type\":\"surface\"}],\"table\":[{\"cells\":{\"fill\":{\"color\":\"#EBF0F8\"},\"line\":{\"color\":\"white\"}},\"header\":{\"fill\":{\"color\":\"#C8D4E3\"},\"line\":{\"color\":\"white\"}},\"type\":\"table\"}]},\"layout\":{\"annotationdefaults\":{\"arrowcolor\":\"#2a3f5f\",\"arrowhead\":0,\"arrowwidth\":1},\"autotypenumbers\":\"strict\",\"coloraxis\":{\"colorbar\":{\"outlinewidth\":0,\"ticks\":\"\"}},\"colorscale\":{\"diverging\":[[0,\"#8e0152\"],[0.1,\"#c51b7d\"],[0.2,\"#de77ae\"],[0.3,\"#f1b6da\"],[0.4,\"#fde0ef\"],[0.5,\"#f7f7f7\"],[0.6,\"#e6f5d0\"],[0.7,\"#b8e186\"],[0.8,\"#7fbc41\"],[0.9,\"#4d9221\"],[1,\"#276419\"]],\"sequential\":[[0.0,\"#0d0887\"],[0.1111111111111111,\"#46039f\"],[0.2222222222222222,\"#7201a8\"],[0.3333333333333333,\"#9c179e\"],[0.4444444444444444,\"#bd3786\"],[0.5555555555555556,\"#d8576b\"],[0.6666666666666666,\"#ed7953\"],[0.7777777777777778,\"#fb9f3a\"],[0.8888888888888888,\"#fdca26\"],[1.0,\"#f0f921\"]],\"sequentialminus\":[[0.0,\"#0d0887\"],[0.1111111111111111,\"#46039f\"],[0.2222222222222222,\"#7201a8\"],[0.3333333333333333,\"#9c179e\"],[0.4444444444444444,\"#bd3786\"],[0.5555555555555556,\"#d8576b\"],[0.6666666666666666,\"#ed7953\"],[0.7777777777777778,\"#fb9f3a\"],[0.8888888888888888,\"#fdca26\"],[1.0,\"#f0f921\"]]},\"colorway\":[\"#636efa\",\"#EF553B\",\"#00cc96\",\"#ab63fa\",\"#FFA15A\",\"#19d3f3\",\"#FF6692\",\"#B6E880\",\"#FF97FF\",\"#FECB52\"],\"font\":{\"color\":\"#2a3f5f\"},\"geo\":{\"bgcolor\":\"white\",\"lakecolor\":\"white\",\"landcolor\":\"#E5ECF6\",\"showlakes\":true,\"showland\":true,\"subunitcolor\":\"white\"},\"hoverlabel\":{\"align\":\"left\"},\"hovermode\":\"closest\",\"mapbox\":{\"style\":\"light\"},\"paper_bgcolor\":\"white\",\"plot_bgcolor\":\"#E5ECF6\",\"polar\":{\"angularaxis\":{\"gridcolor\":\"white\",\"linecolor\":\"white\",\"ticks\":\"\"},\"bgcolor\":\"#E5ECF6\",\"radialaxis\":{\"gridcolor\":\"white\",\"linecolor\":\"white\",\"ticks\":\"\"}},\"scene\":{\"xaxis\":{\"backgroundcolor\":\"#E5ECF6\",\"gridcolor\":\"white\",\"gridwidth\":2,\"linecolor\":\"white\",\"showbackground\":true,\"ticks\":\"\",\"zerolinecolor\":\"white\"},\"yaxis\":{\"backgroundcolor\":\"#E5ECF6\",\"gridcolor\":\"white\",\"gridwidth\":2,\"linecolor\":\"white\",\"showbackground\":true,\"ticks\":\"\",\"zerolinecolor\":\"white\"},\"zaxis\":{\"backgroundcolor\":\"#E5ECF6\",\"gridcolor\":\"white\",\"gridwidth\":2,\"linecolor\":\"white\",\"showbackground\":true,\"ticks\":\"\",\"zerolinecolor\":\"white\"}},\"shapedefaults\":{\"line\":{\"color\":\"#2a3f5f\"}},\"ternary\":{\"aaxis\":{\"gridcolor\":\"white\",\"linecolor\":\"white\",\"ticks\":\"\"},\"baxis\":{\"gridcolor\":\"white\",\"linecolor\":\"white\",\"ticks\":\"\"},\"bgcolor\":\"#E5ECF6\",\"caxis\":{\"gridcolor\":\"white\",\"linecolor\":\"white\",\"ticks\":\"\"}},\"title\":{\"x\":0.05},\"xaxis\":{\"automargin\":true,\"gridcolor\":\"white\",\"linecolor\":\"white\",\"ticks\":\"\",\"title\":{\"standoff\":15},\"zerolinecolor\":\"white\",\"zerolinewidth\":2},\"yaxis\":{\"automargin\":true,\"gridcolor\":\"white\",\"linecolor\":\"white\",\"ticks\":\"\",\"title\":{\"standoff\":15},\"zerolinecolor\":\"white\",\"zerolinewidth\":2}}}},                        {\"responsive\": true}                    ).then(function(){\n",
       "                            \n",
       "var gd = document.getElementById('d6a86bf8-2cb8-4fb2-b0cd-17e40507143e');\n",
       "var x = new MutationObserver(function (mutations, observer) {{\n",
       "        var display = window.getComputedStyle(gd).display;\n",
       "        if (!display || display === 'none') {{\n",
       "            console.log([gd, 'removed!']);\n",
       "            Plotly.purge(gd);\n",
       "            observer.disconnect();\n",
       "        }}\n",
       "}});\n",
       "\n",
       "// Listen for the removal of the full notebook cells\n",
       "var notebookContainer = gd.closest('#notebook-container');\n",
       "if (notebookContainer) {{\n",
       "    x.observe(notebookContainer, {childList: true});\n",
       "}}\n",
       "\n",
       "// Listen for the clearing of the current output cell\n",
       "var outputEl = gd.closest('.output');\n",
       "if (outputEl) {{\n",
       "    x.observe(outputEl, {childList: true});\n",
       "}}\n",
       "\n",
       "                        })                };                });            </script>        </div>"
      ]
     },
     "metadata": {},
     "output_type": "display_data"
    }
   ],
   "source": [
    "import plotly.graph_objs as go\n",
    "\n",
    "iplot([go.Scatter(x=reviews.head(100)['points'], y=reviews.head(1000)['price'], mode='markers')])"
   ]
  },
  {
   "cell_type": "code",
   "execution_count": 18,
   "id": "eacd4897",
   "metadata": {},
   "outputs": [
    {
     "data": {
      "application/vnd.plotly.v1+json": {
       "config": {
        "linkText": "Export to plot.ly",
        "plotlyServerURL": "https://plot.ly",
        "showLink": false
       },
       "data": [
        {
         "contours": {
          "coloring": "heatmap"
         },
         "type": "histogram2dcontour",
         "x": [
          87,
          87,
          87,
          87,
          87,
          87,
          87,
          87,
          87,
          87,
          87,
          87,
          87,
          87,
          87,
          87,
          87,
          87,
          87,
          87,
          87,
          87,
          87,
          87,
          87,
          87,
          87,
          87,
          87,
          86,
          86,
          86,
          86,
          86,
          86,
          86,
          86,
          86,
          86,
          86,
          86,
          86,
          86,
          86,
          86,
          86,
          86,
          86,
          86,
          86,
          86,
          85,
          85,
          85,
          85,
          85,
          85,
          85,
          85,
          86,
          86,
          86,
          86,
          86,
          86,
          86,
          86,
          86,
          86,
          86,
          86,
          86,
          86,
          86,
          86,
          86,
          86,
          86,
          86,
          86,
          86,
          86,
          86,
          86,
          86,
          86,
          86,
          86,
          86,
          88,
          88,
          88,
          88,
          88,
          88,
          88,
          88,
          88,
          88,
          88,
          88,
          87,
          87,
          87,
          87,
          87,
          87,
          87,
          87,
          87,
          87,
          87,
          87,
          87,
          87,
          87,
          87,
          87,
          87,
          92,
          92,
          92,
          92,
          92,
          92,
          91,
          91,
          91,
          91,
          91,
          91,
          91,
          91,
          91,
          91,
          91,
          91,
          90,
          90,
          90,
          90,
          90,
          90,
          90,
          91,
          91,
          91,
          91,
          91,
          91,
          91,
          91,
          91,
          91,
          91,
          91,
          91,
          91,
          91,
          91,
          91,
          91,
          91,
          91,
          91,
          91,
          91,
          91,
          91,
          91,
          91,
          91,
          91,
          91,
          88,
          88,
          88,
          88,
          88,
          88,
          88,
          88,
          88,
          88,
          88,
          88,
          88,
          88,
          88,
          87,
          87,
          87,
          87,
          87,
          87,
          87,
          87,
          90,
          90,
          90,
          90,
          90,
          90,
          90,
          90,
          90,
          90,
          90,
          90,
          90,
          90,
          90,
          90,
          90,
          90,
          90,
          90,
          90,
          90,
          90,
          90,
          90,
          90,
          90,
          90,
          90,
          90,
          85,
          85,
          85,
          85,
          85,
          85,
          85,
          85,
          85,
          85,
          85,
          85,
          85,
          85,
          85,
          85,
          85,
          85,
          85,
          85,
          85,
          85,
          85,
          85,
          85,
          85,
          85,
          89,
          89,
          89,
          89,
          89,
          89,
          89,
          89,
          89,
          89,
          89,
          89,
          89,
          89,
          89,
          89,
          89,
          89,
          89,
          89,
          89,
          89,
          89,
          89,
          89,
          89,
          92,
          92,
          92,
          92,
          92,
          92,
          92,
          92,
          92,
          92,
          92,
          92,
          92,
          92,
          92,
          87,
          87,
          87,
          87,
          87,
          87,
          87,
          87,
          87,
          87,
          87,
          87,
          87,
          87,
          87,
          87,
          87,
          87,
          87,
          87,
          86,
          86,
          86,
          86,
          86,
          86,
          86,
          86,
          86,
          86,
          86,
          86,
          86,
          86,
          86,
          86,
          86,
          86,
          86,
          86,
          86,
          83,
          83,
          82,
          82,
          82,
          82,
          82,
          81,
          80,
          100,
          98,
          97,
          97,
          97,
          97,
          96,
          96,
          96,
          96,
          96,
          95,
          95,
          95,
          95,
          95,
          95,
          95,
          95,
          95,
          95,
          88,
          88,
          88,
          88,
          88,
          88,
          88,
          88,
          88,
          88,
          88,
          88,
          88,
          88,
          88,
          88,
          88,
          88,
          88,
          88,
          88,
          88,
          88,
          88,
          88,
          88,
          87,
          87,
          87,
          87,
          85,
          85,
          85,
          85,
          85,
          85,
          85,
          85,
          85,
          85,
          85,
          85,
          85,
          85,
          85,
          85,
          85,
          85,
          85,
          85,
          85,
          85,
          85,
          89,
          89,
          89,
          89,
          89,
          89,
          89,
          89,
          89,
          89,
          89,
          89,
          89,
          89,
          89,
          89,
          89,
          89,
          89,
          89,
          89,
          89,
          89,
          89,
          88,
          88,
          88,
          88,
          88,
          88,
          92,
          92,
          92,
          92,
          92,
          92,
          92,
          92,
          92,
          92,
          92,
          92,
          92,
          92,
          92,
          92,
          92,
          92,
          92,
          92,
          92,
          92,
          92,
          92,
          92,
          92,
          92,
          92,
          92,
          92,
          87,
          87,
          87,
          87,
          87,
          87,
          87,
          87,
          87,
          87,
          87,
          87,
          87,
          87,
          87,
          87,
          87,
          87,
          87,
          87,
          87
         ],
         "y": [
          null,
          15,
          14,
          13,
          65,
          15,
          16,
          24,
          12,
          27,
          19,
          30,
          34,
          null,
          12,
          24,
          30,
          13,
          28,
          32,
          23,
          20,
          19,
          22,
          35,
          69,
          13,
          10,
          17,
          16,
          null,
          null,
          null,
          50,
          20,
          50,
          15,
          21,
          11,
          12,
          17,
          22,
          9,
          14,
          9,
          40,
          13,
          13,
          16,
          14,
          null,
          22,
          14,
          15,
          null,
          30,
          14,
          13,
          13,
          55,
          100,
          17,
          25,
          58,
          26,
          24,
          15,
          46,
          12,
          55,
          12,
          40,
          32,
          75,
          55,
          75,
          9,
          18,
          25,
          null,
          12,
          16,
          11,
          20,
          24,
          10,
          20,
          55,
          29,
          19,
          23,
          18,
          55,
          12,
          22,
          20,
          18,
          20,
          30,
          75,
          18,
          20,
          20,
          18,
          16,
          14,
          30,
          18,
          26,
          30,
          23,
          85,
          15,
          19,
          18,
          18,
          25,
          44,
          80,
          80,
          70,
          36,
          39,
          40,
          45,
          45,
          48,
          13,
          17,
          25,
          70,
          20,
          30,
          68,
          78,
          60,
          50,
          null,
          10,
          112,
          26,
          45,
          17,
          84,
          85,
          64,
          68,
          68,
          16,
          35,
          25,
          30,
          55,
          46,
          50,
          36,
          14,
          26,
          38,
          null,
          35,
          35,
          28,
          null,
          29,
          32,
          25,
          28,
          95,
          44,
          30,
          22,
          20,
          38,
          19,
          25,
          50,
          22,
          25,
          27,
          23,
          36,
          null,
          12,
          35,
          15,
          40,
          48,
          11,
          11,
          26,
          30,
          20,
          35,
          null,
          35,
          18,
          23,
          60,
          28,
          null,
          62,
          50,
          28,
          30,
          25,
          25,
          32,
          40,
          16,
          20,
          32,
          40,
          48,
          36,
          80,
          57,
          20,
          20,
          36,
          40,
          40,
          null,
          null,
          22,
          25,
          20,
          15,
          14,
          18,
          16,
          10,
          12,
          28,
          10,
          49,
          85,
          18,
          29,
          36,
          9,
          34,
          15,
          30,
          13,
          12,
          15,
          25,
          45,
          18,
          49,
          22,
          35,
          15,
          45,
          55,
          20,
          18,
          35,
          13,
          40,
          37,
          39,
          60,
          19,
          40,
          14,
          40,
          36,
          17,
          25,
          15,
          26,
          19,
          13,
          30,
          20,
          30,
          50,
          52,
          24,
          34,
          41,
          52,
          215,
          null,
          60,
          40,
          null,
          125,
          null,
          null,
          45,
          70,
          30,
          35,
          20,
          15,
          19,
          null,
          28,
          14,
          null,
          56,
          null,
          24,
          7,
          30,
          18,
          20,
          18,
          18,
          40,
          null,
          28,
          15,
          null,
          null,
          18,
          20,
          22,
          16,
          18,
          35,
          12,
          11,
          15,
          18,
          16,
          34,
          40,
          15,
          19,
          18,
          42,
          15,
          35,
          16,
          11,
          13,
          18,
          48,
          11,
          20,
          19,
          350,
          350,
          775,
          100,
          225,
          150,
          320,
          68,
          630,
          365,
          68,
          85,
          350,
          66,
          110,
          125,
          60,
          200,
          380,
          48,
          60,
          21,
          10,
          11,
          21,
          160,
          23,
          10,
          15,
          19,
          40,
          18,
          null,
          18,
          15,
          12,
          11,
          15,
          9,
          30,
          18,
          34,
          17,
          25,
          15,
          12,
          14,
          12,
          11,
          12,
          null,
          16,
          15,
          13,
          24,
          13,
          19,
          11,
          15,
          45,
          19,
          30,
          14,
          15,
          20,
          20,
          12,
          20,
          13,
          16,
          14,
          14,
          null,
          null,
          20,
          null,
          30,
          20,
          23,
          30,
          18,
          18,
          35,
          17,
          42,
          30,
          24,
          16,
          27,
          89,
          null,
          15,
          54,
          15,
          42,
          38,
          12,
          35,
          32,
          12,
          28,
          20,
          14,
          19,
          39,
          null,
          35,
          null,
          69,
          30,
          40,
          23,
          45,
          50,
          100,
          50,
          29,
          66,
          60,
          115,
          69,
          null,
          65,
          42,
          27,
          70,
          73,
          72,
          34,
          null,
          130,
          88,
          65,
          null,
          15,
          45,
          18,
          60,
          12,
          12,
          13,
          13,
          15,
          18,
          13,
          19,
          18,
          30,
          35,
          12,
          18,
          25,
          30,
          17,
          20
         ]
        },
        {
         "type": "scatter",
         "x": [
          87,
          87,
          87,
          87,
          87,
          87,
          87,
          87,
          87,
          87,
          87,
          87,
          87,
          87,
          87,
          87,
          87,
          87,
          87,
          87,
          87,
          87,
          87,
          87,
          87,
          87,
          87,
          87,
          87,
          86,
          86,
          86,
          86,
          86,
          86,
          86,
          86,
          86,
          86,
          86,
          86,
          86,
          86,
          86,
          86,
          86,
          86,
          86,
          86,
          86,
          86,
          85,
          85,
          85,
          85,
          85,
          85,
          85,
          85,
          86,
          86,
          86,
          86,
          86,
          86,
          86,
          86,
          86,
          86,
          86,
          86,
          86,
          86,
          86,
          86,
          86,
          86,
          86,
          86,
          86,
          86,
          86,
          86,
          86,
          86,
          86,
          86,
          86,
          86,
          88,
          88,
          88,
          88,
          88,
          88,
          88,
          88,
          88,
          88,
          88,
          88,
          87,
          87,
          87,
          87,
          87,
          87,
          87,
          87,
          87,
          87,
          87,
          87,
          87,
          87,
          87,
          87,
          87,
          87,
          92,
          92,
          92,
          92,
          92,
          92,
          91,
          91,
          91,
          91,
          91,
          91,
          91,
          91,
          91,
          91,
          91,
          91,
          90,
          90,
          90,
          90,
          90,
          90,
          90,
          91,
          91,
          91,
          91,
          91,
          91,
          91,
          91,
          91,
          91,
          91,
          91,
          91,
          91,
          91,
          91,
          91,
          91,
          91,
          91,
          91,
          91,
          91,
          91,
          91,
          91,
          91,
          91,
          91,
          91,
          88,
          88,
          88,
          88,
          88,
          88,
          88,
          88,
          88,
          88,
          88,
          88,
          88,
          88,
          88,
          87,
          87,
          87,
          87,
          87,
          87,
          87,
          87,
          90,
          90,
          90,
          90,
          90,
          90,
          90,
          90,
          90,
          90,
          90,
          90,
          90,
          90,
          90,
          90,
          90,
          90,
          90,
          90,
          90,
          90,
          90,
          90,
          90,
          90,
          90,
          90,
          90,
          90,
          85,
          85,
          85,
          85,
          85,
          85,
          85,
          85,
          85,
          85,
          85,
          85,
          85,
          85,
          85,
          85,
          85,
          85,
          85,
          85,
          85,
          85,
          85,
          85,
          85,
          85,
          85,
          89,
          89,
          89,
          89,
          89,
          89,
          89,
          89,
          89,
          89,
          89,
          89,
          89,
          89,
          89,
          89,
          89,
          89,
          89,
          89,
          89,
          89,
          89,
          89,
          89,
          89,
          92,
          92,
          92,
          92,
          92,
          92,
          92,
          92,
          92,
          92,
          92,
          92,
          92,
          92,
          92,
          87,
          87,
          87,
          87,
          87,
          87,
          87,
          87,
          87,
          87,
          87,
          87,
          87,
          87,
          87,
          87,
          87,
          87,
          87,
          87,
          86,
          86,
          86,
          86,
          86,
          86,
          86,
          86,
          86,
          86,
          86,
          86,
          86,
          86,
          86,
          86,
          86,
          86,
          86,
          86,
          86,
          83,
          83,
          82,
          82,
          82,
          82,
          82,
          81,
          80,
          100,
          98,
          97,
          97,
          97,
          97,
          96,
          96,
          96,
          96,
          96,
          95,
          95,
          95,
          95,
          95,
          95,
          95,
          95,
          95,
          95,
          88,
          88,
          88,
          88,
          88,
          88,
          88,
          88,
          88,
          88,
          88,
          88,
          88,
          88,
          88,
          88,
          88,
          88,
          88,
          88,
          88,
          88,
          88,
          88,
          88,
          88,
          87,
          87,
          87,
          87,
          85,
          85,
          85,
          85,
          85,
          85,
          85,
          85,
          85,
          85,
          85,
          85,
          85,
          85,
          85,
          85,
          85,
          85,
          85,
          85,
          85,
          85,
          85,
          89,
          89,
          89,
          89,
          89,
          89,
          89,
          89,
          89,
          89,
          89,
          89,
          89,
          89,
          89,
          89,
          89,
          89,
          89,
          89,
          89,
          89,
          89,
          89,
          88,
          88,
          88,
          88,
          88,
          88,
          92,
          92,
          92,
          92,
          92,
          92,
          92,
          92,
          92,
          92,
          92,
          92,
          92,
          92,
          92,
          92,
          92,
          92,
          92,
          92,
          92,
          92,
          92,
          92,
          92,
          92,
          92,
          92,
          92,
          92,
          87,
          87,
          87,
          87,
          87,
          87,
          87,
          87,
          87,
          87,
          87,
          87,
          87,
          87,
          87,
          87,
          87,
          87,
          87,
          87,
          87,
          87,
          87,
          87,
          87,
          87,
          87,
          87,
          87,
          87,
          91,
          91,
          91,
          91,
          91,
          91,
          91,
          91,
          91,
          91,
          91,
          91,
          91,
          91,
          91,
          91,
          91,
          91,
          91,
          91,
          91,
          91,
          91,
          91,
          91,
          91,
          91,
          91,
          91,
          91,
          93,
          93,
          93,
          93,
          93,
          93,
          93,
          93,
          93,
          93,
          93,
          93,
          93,
          93,
          93,
          93,
          93,
          93,
          93,
          93,
          93,
          93,
          93,
          93,
          93,
          93,
          93,
          93,
          93,
          93,
          89,
          89,
          89,
          89,
          89,
          89,
          89,
          89,
          89,
          89,
          89,
          89,
          89,
          89,
          89,
          89,
          89,
          89,
          89,
          89,
          89,
          89,
          89,
          89,
          89,
          89,
          89,
          89,
          89,
          89,
          87,
          87,
          87,
          87,
          87,
          87,
          87,
          87,
          87,
          87,
          87,
          87,
          87,
          87,
          87,
          87,
          87,
          87,
          87,
          87,
          87,
          87,
          87,
          87,
          87,
          87,
          87,
          87,
          87,
          92,
          92,
          92,
          92,
          92,
          92,
          92,
          92,
          92,
          92,
          92,
          92,
          92,
          92,
          92,
          92,
          92,
          92,
          92,
          92,
          92,
          92,
          92,
          92,
          92,
          92,
          92,
          92,
          92,
          92,
          90,
          90,
          90,
          90,
          90,
          90,
          90,
          90,
          90,
          90,
          90,
          90,
          90,
          90,
          90,
          90,
          90,
          90,
          90,
          90,
          90,
          90,
          90,
          90,
          90,
          90,
          90,
          90,
          90,
          90,
          91,
          91,
          91,
          91,
          91,
          91,
          91,
          91,
          91,
          91,
          91,
          91,
          91,
          91,
          91,
          91,
          91,
          91,
          91,
          91,
          91,
          91,
          91,
          91,
          91,
          91,
          91,
          91,
          91,
          91,
          85,
          85,
          85,
          85,
          85,
          85,
          85,
          85,
          85,
          85,
          85,
          85,
          85,
          85,
          85,
          85,
          85,
          85,
          85,
          85,
          85,
          85,
          85,
          85,
          85,
          85,
          85,
          85,
          85,
          87,
          87,
          87,
          87,
          87,
          87,
          87,
          87,
          87,
          87,
          87,
          87,
          87,
          87,
          87,
          87,
          87,
          87,
          87,
          87,
          87,
          87,
          87,
          92,
          92,
          92,
          92,
          92,
          92,
          92,
          92,
          92,
          92,
          92,
          92,
          92,
          92,
          90,
          90,
          90,
          90,
          90,
          90,
          90,
          90,
          90,
          90,
          90,
          90,
          90,
          90,
          90,
          90,
          90,
          90,
          90,
          90,
          90,
          90,
          90,
          90,
          90,
          90,
          90,
          90,
          90,
          90,
          86,
          86,
          86,
          86,
          86,
          86,
          86,
          86,
          86,
          86,
          86,
          86,
          86,
          86,
          86,
          86,
          86,
          86,
          86,
          86,
          86,
          86,
          86,
          86,
          86,
          86,
          86,
          86,
          86,
          86,
          90,
          90,
          90,
          90,
          90,
          90,
          90,
          90,
          90,
          90,
          90,
          90,
          90,
          90,
          90,
          90,
          90,
          90,
          90,
          90,
          90,
          90,
          90,
          90,
          90,
          90,
          90,
          90,
          90,
          90,
          90,
          90,
          90,
          90,
          90,
          90,
          90,
          90,
          90,
          90,
          90,
          90,
          90,
          90,
          90,
          90,
          90,
          90,
          90,
          90,
          90,
          90,
          90,
          90,
          90,
          90,
          90,
          90,
          87,
          87,
          87,
          87,
          87,
          87,
          87,
          87,
          87,
          87,
          87,
          87,
          87,
          87,
          87,
          87,
          87,
          87,
          87,
          87,
          87,
          87,
          87,
          87,
          87,
          87,
          87,
          87,
          87,
          87,
          87,
          87,
          87,
          87,
          87,
          87,
          87,
          87,
          87,
          87,
          87,
          87,
          87,
          87,
          87,
          87,
          87,
          87,
          87,
          87,
          87,
          87,
          87,
          87,
          87,
          87,
          87,
          87,
          87,
          87,
          85,
          85,
          85,
          85,
          85,
          85,
          85,
          85,
          85,
          85,
          85,
          85,
          85,
          85,
          85,
          85,
          85,
          85,
          85,
          85,
          85,
          85,
          85,
          88,
          88,
          88,
          88,
          88,
          88,
          88,
          88,
          88,
          88,
          88,
          88,
          88,
          88,
          88
         ],
         "y": [
          null,
          15,
          14,
          13,
          65,
          15,
          16,
          24,
          12,
          27,
          19,
          30,
          34,
          null,
          12,
          24,
          30,
          13,
          28,
          32,
          23,
          20,
          19,
          22,
          35,
          69,
          13,
          10,
          17,
          16,
          null,
          null,
          null,
          50,
          20,
          50,
          15,
          21,
          11,
          12,
          17,
          22,
          9,
          14,
          9,
          40,
          13,
          13,
          16,
          14,
          null,
          22,
          14,
          15,
          null,
          30,
          14,
          13,
          13,
          55,
          100,
          17,
          25,
          58,
          26,
          24,
          15,
          46,
          12,
          55,
          12,
          40,
          32,
          75,
          55,
          75,
          9,
          18,
          25,
          null,
          12,
          16,
          11,
          20,
          24,
          10,
          20,
          55,
          29,
          19,
          23,
          18,
          55,
          12,
          22,
          20,
          18,
          20,
          30,
          75,
          18,
          20,
          20,
          18,
          16,
          14,
          30,
          18,
          26,
          30,
          23,
          85,
          15,
          19,
          18,
          18,
          25,
          44,
          80,
          80,
          70,
          36,
          39,
          40,
          45,
          45,
          48,
          13,
          17,
          25,
          70,
          20,
          30,
          68,
          78,
          60,
          50,
          null,
          10,
          112,
          26,
          45,
          17,
          84,
          85,
          64,
          68,
          68,
          16,
          35,
          25,
          30,
          55,
          46,
          50,
          36,
          14,
          26,
          38,
          null,
          35,
          35,
          28,
          null,
          29,
          32,
          25,
          28,
          95,
          44,
          30,
          22,
          20,
          38,
          19,
          25,
          50,
          22,
          25,
          27,
          23,
          36,
          null,
          12,
          35,
          15,
          40,
          48,
          11,
          11,
          26,
          30,
          20,
          35,
          null,
          35,
          18,
          23,
          60,
          28,
          null,
          62,
          50,
          28,
          30,
          25,
          25,
          32,
          40,
          16,
          20,
          32,
          40,
          48,
          36,
          80,
          57,
          20,
          20,
          36,
          40,
          40,
          null,
          null,
          22,
          25,
          20,
          15,
          14,
          18,
          16,
          10,
          12,
          28,
          10,
          49,
          85,
          18,
          29,
          36,
          9,
          34,
          15,
          30,
          13,
          12,
          15,
          25,
          45,
          18,
          49,
          22,
          35,
          15,
          45,
          55,
          20,
          18,
          35,
          13,
          40,
          37,
          39,
          60,
          19,
          40,
          14,
          40,
          36,
          17,
          25,
          15,
          26,
          19,
          13,
          30,
          20,
          30,
          50,
          52,
          24,
          34,
          41,
          52,
          215,
          null,
          60,
          40,
          null,
          125,
          null,
          null,
          45,
          70,
          30,
          35,
          20,
          15,
          19,
          null,
          28,
          14,
          null,
          56,
          null,
          24,
          7,
          30,
          18,
          20,
          18,
          18,
          40,
          null,
          28,
          15,
          null,
          null,
          18,
          20,
          22,
          16,
          18,
          35,
          12,
          11,
          15,
          18,
          16,
          34,
          40,
          15,
          19,
          18,
          42,
          15,
          35,
          16,
          11,
          13,
          18,
          48,
          11,
          20,
          19,
          350,
          350,
          775,
          100,
          225,
          150,
          320,
          68,
          630,
          365,
          68,
          85,
          350,
          66,
          110,
          125,
          60,
          200,
          380,
          48,
          60,
          21,
          10,
          11,
          21,
          160,
          23,
          10,
          15,
          19,
          40,
          18,
          null,
          18,
          15,
          12,
          11,
          15,
          9,
          30,
          18,
          34,
          17,
          25,
          15,
          12,
          14,
          12,
          11,
          12,
          null,
          16,
          15,
          13,
          24,
          13,
          19,
          11,
          15,
          45,
          19,
          30,
          14,
          15,
          20,
          20,
          12,
          20,
          13,
          16,
          14,
          14,
          null,
          null,
          20,
          null,
          30,
          20,
          23,
          30,
          18,
          18,
          35,
          17,
          42,
          30,
          24,
          16,
          27,
          89,
          null,
          15,
          54,
          15,
          42,
          38,
          12,
          35,
          32,
          12,
          28,
          20,
          14,
          19,
          39,
          null,
          35,
          null,
          69,
          30,
          40,
          23,
          45,
          50,
          100,
          50,
          29,
          66,
          60,
          115,
          69,
          null,
          65,
          42,
          27,
          70,
          73,
          72,
          34,
          null,
          130,
          88,
          65,
          null,
          15,
          45,
          18,
          60,
          12,
          12,
          13,
          13,
          15,
          18,
          13,
          19,
          18,
          30,
          35,
          12,
          18,
          25,
          30,
          17,
          20,
          11,
          15,
          18,
          19,
          15,
          16,
          12,
          28,
          28,
          65,
          48,
          70,
          59,
          90,
          35,
          75,
          55,
          55,
          60,
          36,
          35,
          35,
          55,
          65,
          35,
          49,
          55,
          30,
          42,
          45,
          24,
          50,
          50,
          50,
          38,
          22,
          50,
          110,
          45,
          42,
          60,
          42,
          30,
          75,
          54,
          85,
          50,
          150,
          85,
          90,
          35,
          46,
          20,
          42,
          40,
          75,
          88,
          40,
          25,
          48,
          45,
          50,
          65,
          48,
          62,
          100,
          53,
          55,
          70,
          38,
          50,
          25,
          15,
          14,
          11,
          14,
          37,
          17,
          15,
          13,
          18,
          26,
          18,
          32,
          18,
          25,
          18,
          20,
          18,
          null,
          17,
          13,
          41,
          16,
          20,
          30,
          13,
          24,
          36,
          20,
          19,
          15,
          69,
          36,
          35,
          30,
          25,
          25,
          15,
          20,
          17,
          54,
          40,
          12,
          19,
          11,
          45,
          25,
          35,
          16,
          20,
          28,
          25,
          28,
          20,
          15,
          23,
          19,
          35,
          75,
          48,
          54,
          34,
          60,
          48,
          28,
          125,
          45,
          36,
          30,
          37,
          25,
          30,
          60,
          40,
          50,
          23,
          80,
          34,
          75,
          24,
          39,
          21,
          35,
          43,
          30,
          70,
          50,
          40,
          45,
          80,
          15,
          65,
          65,
          35,
          25,
          20,
          15,
          26,
          30,
          13,
          45,
          26,
          44,
          38,
          28,
          32,
          50,
          35,
          35,
          25,
          42,
          45,
          70,
          30,
          75,
          53,
          29,
          90,
          35,
          35,
          50,
          35,
          65,
          50,
          43,
          28,
          null,
          20,
          40,
          30,
          65,
          17,
          null,
          20,
          28,
          20,
          20,
          25,
          38,
          120,
          23,
          48,
          32,
          50,
          28,
          30,
          25,
          8,
          15,
          22,
          14,
          25,
          8,
          14,
          80,
          9,
          13,
          17,
          10,
          16,
          10,
          22,
          40,
          15,
          17,
          32,
          12,
          17,
          102,
          null,
          10,
          20,
          33,
          48,
          12,
          9,
          24,
          75,
          12,
          45,
          13,
          null,
          22,
          10,
          18,
          35,
          36,
          34,
          70,
          28,
          19,
          14,
          10,
          45,
          32,
          18,
          9,
          11,
          30,
          62,
          40,
          66,
          32,
          70,
          48,
          72,
          18,
          105,
          101,
          50,
          85,
          35,
          38,
          32,
          25,
          12,
          125,
          46,
          29,
          17,
          85,
          30,
          34,
          22,
          35,
          45,
          20,
          17,
          45,
          20,
          50,
          22,
          39,
          35,
          15,
          27,
          66,
          32,
          20,
          125,
          16,
          42,
          22,
          null,
          18,
          22,
          12,
          15,
          9,
          12,
          15,
          20,
          28,
          10,
          70,
          28,
          11,
          30,
          26,
          15,
          23,
          null,
          30,
          10,
          12,
          13,
          15,
          36,
          20,
          null,
          10,
          16,
          25,
          24,
          null,
          24,
          33,
          null,
          70,
          117,
          null,
          16,
          30,
          20,
          35,
          25,
          28,
          15,
          150,
          45,
          30,
          19,
          45,
          40,
          null,
          25,
          40,
          15,
          42,
          29,
          42,
          18,
          16,
          40,
          null,
          50,
          null,
          35,
          45,
          20,
          44,
          22,
          null,
          28,
          27,
          25,
          60,
          72,
          44,
          28,
          29,
          58,
          15,
          29,
          45,
          70,
          39,
          null,
          28,
          48,
          50,
          22,
          10,
          50,
          30,
          18,
          30,
          39,
          35,
          30,
          23,
          18,
          30,
          20,
          25,
          20,
          50,
          50,
          15,
          null,
          9,
          12,
          14,
          18,
          20,
          175,
          12,
          60,
          20,
          15,
          35,
          14,
          16,
          15,
          14,
          40,
          29,
          15,
          55,
          38,
          15,
          34,
          18,
          27,
          17,
          65,
          13,
          15,
          23,
          40,
          32,
          16,
          38,
          15,
          50,
          30,
          24,
          18,
          40,
          18,
          20,
          40,
          11,
          17,
          48,
          9,
          10,
          null,
          9,
          19,
          15,
          23,
          35,
          30,
          12,
          17,
          16,
          15,
          10,
          41,
          10,
          16,
          25,
          12,
          20,
          null,
          25,
          20,
          53,
          12,
          null,
          14,
          12,
          22,
          26,
          14,
          18,
          18,
          17
         ]
        }
       ],
       "layout": {
        "template": {
         "data": {
          "bar": [
           {
            "error_x": {
             "color": "#2a3f5f"
            },
            "error_y": {
             "color": "#2a3f5f"
            },
            "marker": {
             "line": {
              "color": "#E5ECF6",
              "width": 0.5
             },
             "pattern": {
              "fillmode": "overlay",
              "size": 10,
              "solidity": 0.2
             }
            },
            "type": "bar"
           }
          ],
          "barpolar": [
           {
            "marker": {
             "line": {
              "color": "#E5ECF6",
              "width": 0.5
             },
             "pattern": {
              "fillmode": "overlay",
              "size": 10,
              "solidity": 0.2
             }
            },
            "type": "barpolar"
           }
          ],
          "carpet": [
           {
            "aaxis": {
             "endlinecolor": "#2a3f5f",
             "gridcolor": "white",
             "linecolor": "white",
             "minorgridcolor": "white",
             "startlinecolor": "#2a3f5f"
            },
            "baxis": {
             "endlinecolor": "#2a3f5f",
             "gridcolor": "white",
             "linecolor": "white",
             "minorgridcolor": "white",
             "startlinecolor": "#2a3f5f"
            },
            "type": "carpet"
           }
          ],
          "choropleth": [
           {
            "colorbar": {
             "outlinewidth": 0,
             "ticks": ""
            },
            "type": "choropleth"
           }
          ],
          "contour": [
           {
            "colorbar": {
             "outlinewidth": 0,
             "ticks": ""
            },
            "colorscale": [
             [
              0,
              "#0d0887"
             ],
             [
              0.1111111111111111,
              "#46039f"
             ],
             [
              0.2222222222222222,
              "#7201a8"
             ],
             [
              0.3333333333333333,
              "#9c179e"
             ],
             [
              0.4444444444444444,
              "#bd3786"
             ],
             [
              0.5555555555555556,
              "#d8576b"
             ],
             [
              0.6666666666666666,
              "#ed7953"
             ],
             [
              0.7777777777777778,
              "#fb9f3a"
             ],
             [
              0.8888888888888888,
              "#fdca26"
             ],
             [
              1,
              "#f0f921"
             ]
            ],
            "type": "contour"
           }
          ],
          "contourcarpet": [
           {
            "colorbar": {
             "outlinewidth": 0,
             "ticks": ""
            },
            "type": "contourcarpet"
           }
          ],
          "heatmap": [
           {
            "colorbar": {
             "outlinewidth": 0,
             "ticks": ""
            },
            "colorscale": [
             [
              0,
              "#0d0887"
             ],
             [
              0.1111111111111111,
              "#46039f"
             ],
             [
              0.2222222222222222,
              "#7201a8"
             ],
             [
              0.3333333333333333,
              "#9c179e"
             ],
             [
              0.4444444444444444,
              "#bd3786"
             ],
             [
              0.5555555555555556,
              "#d8576b"
             ],
             [
              0.6666666666666666,
              "#ed7953"
             ],
             [
              0.7777777777777778,
              "#fb9f3a"
             ],
             [
              0.8888888888888888,
              "#fdca26"
             ],
             [
              1,
              "#f0f921"
             ]
            ],
            "type": "heatmap"
           }
          ],
          "heatmapgl": [
           {
            "colorbar": {
             "outlinewidth": 0,
             "ticks": ""
            },
            "colorscale": [
             [
              0,
              "#0d0887"
             ],
             [
              0.1111111111111111,
              "#46039f"
             ],
             [
              0.2222222222222222,
              "#7201a8"
             ],
             [
              0.3333333333333333,
              "#9c179e"
             ],
             [
              0.4444444444444444,
              "#bd3786"
             ],
             [
              0.5555555555555556,
              "#d8576b"
             ],
             [
              0.6666666666666666,
              "#ed7953"
             ],
             [
              0.7777777777777778,
              "#fb9f3a"
             ],
             [
              0.8888888888888888,
              "#fdca26"
             ],
             [
              1,
              "#f0f921"
             ]
            ],
            "type": "heatmapgl"
           }
          ],
          "histogram": [
           {
            "marker": {
             "pattern": {
              "fillmode": "overlay",
              "size": 10,
              "solidity": 0.2
             }
            },
            "type": "histogram"
           }
          ],
          "histogram2d": [
           {
            "colorbar": {
             "outlinewidth": 0,
             "ticks": ""
            },
            "colorscale": [
             [
              0,
              "#0d0887"
             ],
             [
              0.1111111111111111,
              "#46039f"
             ],
             [
              0.2222222222222222,
              "#7201a8"
             ],
             [
              0.3333333333333333,
              "#9c179e"
             ],
             [
              0.4444444444444444,
              "#bd3786"
             ],
             [
              0.5555555555555556,
              "#d8576b"
             ],
             [
              0.6666666666666666,
              "#ed7953"
             ],
             [
              0.7777777777777778,
              "#fb9f3a"
             ],
             [
              0.8888888888888888,
              "#fdca26"
             ],
             [
              1,
              "#f0f921"
             ]
            ],
            "type": "histogram2d"
           }
          ],
          "histogram2dcontour": [
           {
            "colorbar": {
             "outlinewidth": 0,
             "ticks": ""
            },
            "colorscale": [
             [
              0,
              "#0d0887"
             ],
             [
              0.1111111111111111,
              "#46039f"
             ],
             [
              0.2222222222222222,
              "#7201a8"
             ],
             [
              0.3333333333333333,
              "#9c179e"
             ],
             [
              0.4444444444444444,
              "#bd3786"
             ],
             [
              0.5555555555555556,
              "#d8576b"
             ],
             [
              0.6666666666666666,
              "#ed7953"
             ],
             [
              0.7777777777777778,
              "#fb9f3a"
             ],
             [
              0.8888888888888888,
              "#fdca26"
             ],
             [
              1,
              "#f0f921"
             ]
            ],
            "type": "histogram2dcontour"
           }
          ],
          "mesh3d": [
           {
            "colorbar": {
             "outlinewidth": 0,
             "ticks": ""
            },
            "type": "mesh3d"
           }
          ],
          "parcoords": [
           {
            "line": {
             "colorbar": {
              "outlinewidth": 0,
              "ticks": ""
             }
            },
            "type": "parcoords"
           }
          ],
          "pie": [
           {
            "automargin": true,
            "type": "pie"
           }
          ],
          "scatter": [
           {
            "fillpattern": {
             "fillmode": "overlay",
             "size": 10,
             "solidity": 0.2
            },
            "type": "scatter"
           }
          ],
          "scatter3d": [
           {
            "line": {
             "colorbar": {
              "outlinewidth": 0,
              "ticks": ""
             }
            },
            "marker": {
             "colorbar": {
              "outlinewidth": 0,
              "ticks": ""
             }
            },
            "type": "scatter3d"
           }
          ],
          "scattercarpet": [
           {
            "marker": {
             "colorbar": {
              "outlinewidth": 0,
              "ticks": ""
             }
            },
            "type": "scattercarpet"
           }
          ],
          "scattergeo": [
           {
            "marker": {
             "colorbar": {
              "outlinewidth": 0,
              "ticks": ""
             }
            },
            "type": "scattergeo"
           }
          ],
          "scattergl": [
           {
            "marker": {
             "colorbar": {
              "outlinewidth": 0,
              "ticks": ""
             }
            },
            "type": "scattergl"
           }
          ],
          "scattermapbox": [
           {
            "marker": {
             "colorbar": {
              "outlinewidth": 0,
              "ticks": ""
             }
            },
            "type": "scattermapbox"
           }
          ],
          "scatterpolar": [
           {
            "marker": {
             "colorbar": {
              "outlinewidth": 0,
              "ticks": ""
             }
            },
            "type": "scatterpolar"
           }
          ],
          "scatterpolargl": [
           {
            "marker": {
             "colorbar": {
              "outlinewidth": 0,
              "ticks": ""
             }
            },
            "type": "scatterpolargl"
           }
          ],
          "scatterternary": [
           {
            "marker": {
             "colorbar": {
              "outlinewidth": 0,
              "ticks": ""
             }
            },
            "type": "scatterternary"
           }
          ],
          "surface": [
           {
            "colorbar": {
             "outlinewidth": 0,
             "ticks": ""
            },
            "colorscale": [
             [
              0,
              "#0d0887"
             ],
             [
              0.1111111111111111,
              "#46039f"
             ],
             [
              0.2222222222222222,
              "#7201a8"
             ],
             [
              0.3333333333333333,
              "#9c179e"
             ],
             [
              0.4444444444444444,
              "#bd3786"
             ],
             [
              0.5555555555555556,
              "#d8576b"
             ],
             [
              0.6666666666666666,
              "#ed7953"
             ],
             [
              0.7777777777777778,
              "#fb9f3a"
             ],
             [
              0.8888888888888888,
              "#fdca26"
             ],
             [
              1,
              "#f0f921"
             ]
            ],
            "type": "surface"
           }
          ],
          "table": [
           {
            "cells": {
             "fill": {
              "color": "#EBF0F8"
             },
             "line": {
              "color": "white"
             }
            },
            "header": {
             "fill": {
              "color": "#C8D4E3"
             },
             "line": {
              "color": "white"
             }
            },
            "type": "table"
           }
          ]
         },
         "layout": {
          "annotationdefaults": {
           "arrowcolor": "#2a3f5f",
           "arrowhead": 0,
           "arrowwidth": 1
          },
          "autotypenumbers": "strict",
          "coloraxis": {
           "colorbar": {
            "outlinewidth": 0,
            "ticks": ""
           }
          },
          "colorscale": {
           "diverging": [
            [
             0,
             "#8e0152"
            ],
            [
             0.1,
             "#c51b7d"
            ],
            [
             0.2,
             "#de77ae"
            ],
            [
             0.3,
             "#f1b6da"
            ],
            [
             0.4,
             "#fde0ef"
            ],
            [
             0.5,
             "#f7f7f7"
            ],
            [
             0.6,
             "#e6f5d0"
            ],
            [
             0.7,
             "#b8e186"
            ],
            [
             0.8,
             "#7fbc41"
            ],
            [
             0.9,
             "#4d9221"
            ],
            [
             1,
             "#276419"
            ]
           ],
           "sequential": [
            [
             0,
             "#0d0887"
            ],
            [
             0.1111111111111111,
             "#46039f"
            ],
            [
             0.2222222222222222,
             "#7201a8"
            ],
            [
             0.3333333333333333,
             "#9c179e"
            ],
            [
             0.4444444444444444,
             "#bd3786"
            ],
            [
             0.5555555555555556,
             "#d8576b"
            ],
            [
             0.6666666666666666,
             "#ed7953"
            ],
            [
             0.7777777777777778,
             "#fb9f3a"
            ],
            [
             0.8888888888888888,
             "#fdca26"
            ],
            [
             1,
             "#f0f921"
            ]
           ],
           "sequentialminus": [
            [
             0,
             "#0d0887"
            ],
            [
             0.1111111111111111,
             "#46039f"
            ],
            [
             0.2222222222222222,
             "#7201a8"
            ],
            [
             0.3333333333333333,
             "#9c179e"
            ],
            [
             0.4444444444444444,
             "#bd3786"
            ],
            [
             0.5555555555555556,
             "#d8576b"
            ],
            [
             0.6666666666666666,
             "#ed7953"
            ],
            [
             0.7777777777777778,
             "#fb9f3a"
            ],
            [
             0.8888888888888888,
             "#fdca26"
            ],
            [
             1,
             "#f0f921"
            ]
           ]
          },
          "colorway": [
           "#636efa",
           "#EF553B",
           "#00cc96",
           "#ab63fa",
           "#FFA15A",
           "#19d3f3",
           "#FF6692",
           "#B6E880",
           "#FF97FF",
           "#FECB52"
          ],
          "font": {
           "color": "#2a3f5f"
          },
          "geo": {
           "bgcolor": "white",
           "lakecolor": "white",
           "landcolor": "#E5ECF6",
           "showlakes": true,
           "showland": true,
           "subunitcolor": "white"
          },
          "hoverlabel": {
           "align": "left"
          },
          "hovermode": "closest",
          "mapbox": {
           "style": "light"
          },
          "paper_bgcolor": "white",
          "plot_bgcolor": "#E5ECF6",
          "polar": {
           "angularaxis": {
            "gridcolor": "white",
            "linecolor": "white",
            "ticks": ""
           },
           "bgcolor": "#E5ECF6",
           "radialaxis": {
            "gridcolor": "white",
            "linecolor": "white",
            "ticks": ""
           }
          },
          "scene": {
           "xaxis": {
            "backgroundcolor": "#E5ECF6",
            "gridcolor": "white",
            "gridwidth": 2,
            "linecolor": "white",
            "showbackground": true,
            "ticks": "",
            "zerolinecolor": "white"
           },
           "yaxis": {
            "backgroundcolor": "#E5ECF6",
            "gridcolor": "white",
            "gridwidth": 2,
            "linecolor": "white",
            "showbackground": true,
            "ticks": "",
            "zerolinecolor": "white"
           },
           "zaxis": {
            "backgroundcolor": "#E5ECF6",
            "gridcolor": "white",
            "gridwidth": 2,
            "linecolor": "white",
            "showbackground": true,
            "ticks": "",
            "zerolinecolor": "white"
           }
          },
          "shapedefaults": {
           "line": {
            "color": "#2a3f5f"
           }
          },
          "ternary": {
           "aaxis": {
            "gridcolor": "white",
            "linecolor": "white",
            "ticks": ""
           },
           "baxis": {
            "gridcolor": "white",
            "linecolor": "white",
            "ticks": ""
           },
           "bgcolor": "#E5ECF6",
           "caxis": {
            "gridcolor": "white",
            "linecolor": "white",
            "ticks": ""
           }
          },
          "title": {
           "x": 0.05
          },
          "xaxis": {
           "automargin": true,
           "gridcolor": "white",
           "linecolor": "white",
           "ticks": "",
           "title": {
            "standoff": 15
           },
           "zerolinecolor": "white",
           "zerolinewidth": 2
          },
          "yaxis": {
           "automargin": true,
           "gridcolor": "white",
           "linecolor": "white",
           "ticks": "",
           "title": {
            "standoff": 15
           },
           "zerolinecolor": "white",
           "zerolinewidth": 2
          }
         }
        }
       }
      },
      "text/html": [
       "<div>                            <div id=\"1f903d38-8375-4846-b187-44b13c6f38c4\" class=\"plotly-graph-div\" style=\"height:525px; width:100%;\"></div>            <script type=\"text/javascript\">                require([\"plotly\"], function(Plotly) {                    window.PLOTLYENV=window.PLOTLYENV || {};                                    if (document.getElementById(\"1f903d38-8375-4846-b187-44b13c6f38c4\")) {                    Plotly.newPlot(                        \"1f903d38-8375-4846-b187-44b13c6f38c4\",                        [{\"contours\":{\"coloring\":\"heatmap\"},\"x\":[87,87,87,87,87,87,87,87,87,87,87,87,87,87,87,87,87,87,87,87,87,87,87,87,87,87,87,87,87,86,86,86,86,86,86,86,86,86,86,86,86,86,86,86,86,86,86,86,86,86,86,85,85,85,85,85,85,85,85,86,86,86,86,86,86,86,86,86,86,86,86,86,86,86,86,86,86,86,86,86,86,86,86,86,86,86,86,86,86,88,88,88,88,88,88,88,88,88,88,88,88,87,87,87,87,87,87,87,87,87,87,87,87,87,87,87,87,87,87,92,92,92,92,92,92,91,91,91,91,91,91,91,91,91,91,91,91,90,90,90,90,90,90,90,91,91,91,91,91,91,91,91,91,91,91,91,91,91,91,91,91,91,91,91,91,91,91,91,91,91,91,91,91,91,88,88,88,88,88,88,88,88,88,88,88,88,88,88,88,87,87,87,87,87,87,87,87,90,90,90,90,90,90,90,90,90,90,90,90,90,90,90,90,90,90,90,90,90,90,90,90,90,90,90,90,90,90,85,85,85,85,85,85,85,85,85,85,85,85,85,85,85,85,85,85,85,85,85,85,85,85,85,85,85,89,89,89,89,89,89,89,89,89,89,89,89,89,89,89,89,89,89,89,89,89,89,89,89,89,89,92,92,92,92,92,92,92,92,92,92,92,92,92,92,92,87,87,87,87,87,87,87,87,87,87,87,87,87,87,87,87,87,87,87,87,86,86,86,86,86,86,86,86,86,86,86,86,86,86,86,86,86,86,86,86,86,83,83,82,82,82,82,82,81,80,100,98,97,97,97,97,96,96,96,96,96,95,95,95,95,95,95,95,95,95,95,88,88,88,88,88,88,88,88,88,88,88,88,88,88,88,88,88,88,88,88,88,88,88,88,88,88,87,87,87,87,85,85,85,85,85,85,85,85,85,85,85,85,85,85,85,85,85,85,85,85,85,85,85,89,89,89,89,89,89,89,89,89,89,89,89,89,89,89,89,89,89,89,89,89,89,89,89,88,88,88,88,88,88,92,92,92,92,92,92,92,92,92,92,92,92,92,92,92,92,92,92,92,92,92,92,92,92,92,92,92,92,92,92,87,87,87,87,87,87,87,87,87,87,87,87,87,87,87,87,87,87,87,87,87],\"y\":[null,15.0,14.0,13.0,65.0,15.0,16.0,24.0,12.0,27.0,19.0,30.0,34.0,null,12.0,24.0,30.0,13.0,28.0,32.0,23.0,20.0,19.0,22.0,35.0,69.0,13.0,10.0,17.0,16.0,null,null,null,50.0,20.0,50.0,15.0,21.0,11.0,12.0,17.0,22.0,9.0,14.0,9.0,40.0,13.0,13.0,16.0,14.0,null,22.0,14.0,15.0,null,30.0,14.0,13.0,13.0,55.0,100.0,17.0,25.0,58.0,26.0,24.0,15.0,46.0,12.0,55.0,12.0,40.0,32.0,75.0,55.0,75.0,9.0,18.0,25.0,null,12.0,16.0,11.0,20.0,24.0,10.0,20.0,55.0,29.0,19.0,23.0,18.0,55.0,12.0,22.0,20.0,18.0,20.0,30.0,75.0,18.0,20.0,20.0,18.0,16.0,14.0,30.0,18.0,26.0,30.0,23.0,85.0,15.0,19.0,18.0,18.0,25.0,44.0,80.0,80.0,70.0,36.0,39.0,40.0,45.0,45.0,48.0,13.0,17.0,25.0,70.0,20.0,30.0,68.0,78.0,60.0,50.0,null,10.0,112.0,26.0,45.0,17.0,84.0,85.0,64.0,68.0,68.0,16.0,35.0,25.0,30.0,55.0,46.0,50.0,36.0,14.0,26.0,38.0,null,35.0,35.0,28.0,null,29.0,32.0,25.0,28.0,95.0,44.0,30.0,22.0,20.0,38.0,19.0,25.0,50.0,22.0,25.0,27.0,23.0,36.0,null,12.0,35.0,15.0,40.0,48.0,11.0,11.0,26.0,30.0,20.0,35.0,null,35.0,18.0,23.0,60.0,28.0,null,62.0,50.0,28.0,30.0,25.0,25.0,32.0,40.0,16.0,20.0,32.0,40.0,48.0,36.0,80.0,57.0,20.0,20.0,36.0,40.0,40.0,null,null,22.0,25.0,20.0,15.0,14.0,18.0,16.0,10.0,12.0,28.0,10.0,49.0,85.0,18.0,29.0,36.0,9.0,34.0,15.0,30.0,13.0,12.0,15.0,25.0,45.0,18.0,49.0,22.0,35.0,15.0,45.0,55.0,20.0,18.0,35.0,13.0,40.0,37.0,39.0,60.0,19.0,40.0,14.0,40.0,36.0,17.0,25.0,15.0,26.0,19.0,13.0,30.0,20.0,30.0,50.0,52.0,24.0,34.0,41.0,52.0,215.0,null,60.0,40.0,null,125.0,null,null,45.0,70.0,30.0,35.0,20.0,15.0,19.0,null,28.0,14.0,null,56.0,null,24.0,7.0,30.0,18.0,20.0,18.0,18.0,40.0,null,28.0,15.0,null,null,18.0,20.0,22.0,16.0,18.0,35.0,12.0,11.0,15.0,18.0,16.0,34.0,40.0,15.0,19.0,18.0,42.0,15.0,35.0,16.0,11.0,13.0,18.0,48.0,11.0,20.0,19.0,350.0,350.0,775.0,100.0,225.0,150.0,320.0,68.0,630.0,365.0,68.0,85.0,350.0,66.0,110.0,125.0,60.0,200.0,380.0,48.0,60.0,21.0,10.0,11.0,21.0,160.0,23.0,10.0,15.0,19.0,40.0,18.0,null,18.0,15.0,12.0,11.0,15.0,9.0,30.0,18.0,34.0,17.0,25.0,15.0,12.0,14.0,12.0,11.0,12.0,null,16.0,15.0,13.0,24.0,13.0,19.0,11.0,15.0,45.0,19.0,30.0,14.0,15.0,20.0,20.0,12.0,20.0,13.0,16.0,14.0,14.0,null,null,20.0,null,30.0,20.0,23.0,30.0,18.0,18.0,35.0,17.0,42.0,30.0,24.0,16.0,27.0,89.0,null,15.0,54.0,15.0,42.0,38.0,12.0,35.0,32.0,12.0,28.0,20.0,14.0,19.0,39.0,null,35.0,null,69.0,30.0,40.0,23.0,45.0,50.0,100.0,50.0,29.0,66.0,60.0,115.0,69.0,null,65.0,42.0,27.0,70.0,73.0,72.0,34.0,null,130.0,88.0,65.0,null,15.0,45.0,18.0,60.0,12.0,12.0,13.0,13.0,15.0,18.0,13.0,19.0,18.0,30.0,35.0,12.0,18.0,25.0,30.0,17.0,20.0],\"type\":\"histogram2dcontour\"},{\"x\":[87,87,87,87,87,87,87,87,87,87,87,87,87,87,87,87,87,87,87,87,87,87,87,87,87,87,87,87,87,86,86,86,86,86,86,86,86,86,86,86,86,86,86,86,86,86,86,86,86,86,86,85,85,85,85,85,85,85,85,86,86,86,86,86,86,86,86,86,86,86,86,86,86,86,86,86,86,86,86,86,86,86,86,86,86,86,86,86,86,88,88,88,88,88,88,88,88,88,88,88,88,87,87,87,87,87,87,87,87,87,87,87,87,87,87,87,87,87,87,92,92,92,92,92,92,91,91,91,91,91,91,91,91,91,91,91,91,90,90,90,90,90,90,90,91,91,91,91,91,91,91,91,91,91,91,91,91,91,91,91,91,91,91,91,91,91,91,91,91,91,91,91,91,91,88,88,88,88,88,88,88,88,88,88,88,88,88,88,88,87,87,87,87,87,87,87,87,90,90,90,90,90,90,90,90,90,90,90,90,90,90,90,90,90,90,90,90,90,90,90,90,90,90,90,90,90,90,85,85,85,85,85,85,85,85,85,85,85,85,85,85,85,85,85,85,85,85,85,85,85,85,85,85,85,89,89,89,89,89,89,89,89,89,89,89,89,89,89,89,89,89,89,89,89,89,89,89,89,89,89,92,92,92,92,92,92,92,92,92,92,92,92,92,92,92,87,87,87,87,87,87,87,87,87,87,87,87,87,87,87,87,87,87,87,87,86,86,86,86,86,86,86,86,86,86,86,86,86,86,86,86,86,86,86,86,86,83,83,82,82,82,82,82,81,80,100,98,97,97,97,97,96,96,96,96,96,95,95,95,95,95,95,95,95,95,95,88,88,88,88,88,88,88,88,88,88,88,88,88,88,88,88,88,88,88,88,88,88,88,88,88,88,87,87,87,87,85,85,85,85,85,85,85,85,85,85,85,85,85,85,85,85,85,85,85,85,85,85,85,89,89,89,89,89,89,89,89,89,89,89,89,89,89,89,89,89,89,89,89,89,89,89,89,88,88,88,88,88,88,92,92,92,92,92,92,92,92,92,92,92,92,92,92,92,92,92,92,92,92,92,92,92,92,92,92,92,92,92,92,87,87,87,87,87,87,87,87,87,87,87,87,87,87,87,87,87,87,87,87,87,87,87,87,87,87,87,87,87,87,91,91,91,91,91,91,91,91,91,91,91,91,91,91,91,91,91,91,91,91,91,91,91,91,91,91,91,91,91,91,93,93,93,93,93,93,93,93,93,93,93,93,93,93,93,93,93,93,93,93,93,93,93,93,93,93,93,93,93,93,89,89,89,89,89,89,89,89,89,89,89,89,89,89,89,89,89,89,89,89,89,89,89,89,89,89,89,89,89,89,87,87,87,87,87,87,87,87,87,87,87,87,87,87,87,87,87,87,87,87,87,87,87,87,87,87,87,87,87,92,92,92,92,92,92,92,92,92,92,92,92,92,92,92,92,92,92,92,92,92,92,92,92,92,92,92,92,92,92,90,90,90,90,90,90,90,90,90,90,90,90,90,90,90,90,90,90,90,90,90,90,90,90,90,90,90,90,90,90,91,91,91,91,91,91,91,91,91,91,91,91,91,91,91,91,91,91,91,91,91,91,91,91,91,91,91,91,91,91,85,85,85,85,85,85,85,85,85,85,85,85,85,85,85,85,85,85,85,85,85,85,85,85,85,85,85,85,85,87,87,87,87,87,87,87,87,87,87,87,87,87,87,87,87,87,87,87,87,87,87,87,92,92,92,92,92,92,92,92,92,92,92,92,92,92,90,90,90,90,90,90,90,90,90,90,90,90,90,90,90,90,90,90,90,90,90,90,90,90,90,90,90,90,90,90,86,86,86,86,86,86,86,86,86,86,86,86,86,86,86,86,86,86,86,86,86,86,86,86,86,86,86,86,86,86,90,90,90,90,90,90,90,90,90,90,90,90,90,90,90,90,90,90,90,90,90,90,90,90,90,90,90,90,90,90,90,90,90,90,90,90,90,90,90,90,90,90,90,90,90,90,90,90,90,90,90,90,90,90,90,90,90,90,87,87,87,87,87,87,87,87,87,87,87,87,87,87,87,87,87,87,87,87,87,87,87,87,87,87,87,87,87,87,87,87,87,87,87,87,87,87,87,87,87,87,87,87,87,87,87,87,87,87,87,87,87,87,87,87,87,87,87,87,85,85,85,85,85,85,85,85,85,85,85,85,85,85,85,85,85,85,85,85,85,85,85,88,88,88,88,88,88,88,88,88,88,88,88,88,88,88],\"y\":[null,15.0,14.0,13.0,65.0,15.0,16.0,24.0,12.0,27.0,19.0,30.0,34.0,null,12.0,24.0,30.0,13.0,28.0,32.0,23.0,20.0,19.0,22.0,35.0,69.0,13.0,10.0,17.0,16.0,null,null,null,50.0,20.0,50.0,15.0,21.0,11.0,12.0,17.0,22.0,9.0,14.0,9.0,40.0,13.0,13.0,16.0,14.0,null,22.0,14.0,15.0,null,30.0,14.0,13.0,13.0,55.0,100.0,17.0,25.0,58.0,26.0,24.0,15.0,46.0,12.0,55.0,12.0,40.0,32.0,75.0,55.0,75.0,9.0,18.0,25.0,null,12.0,16.0,11.0,20.0,24.0,10.0,20.0,55.0,29.0,19.0,23.0,18.0,55.0,12.0,22.0,20.0,18.0,20.0,30.0,75.0,18.0,20.0,20.0,18.0,16.0,14.0,30.0,18.0,26.0,30.0,23.0,85.0,15.0,19.0,18.0,18.0,25.0,44.0,80.0,80.0,70.0,36.0,39.0,40.0,45.0,45.0,48.0,13.0,17.0,25.0,70.0,20.0,30.0,68.0,78.0,60.0,50.0,null,10.0,112.0,26.0,45.0,17.0,84.0,85.0,64.0,68.0,68.0,16.0,35.0,25.0,30.0,55.0,46.0,50.0,36.0,14.0,26.0,38.0,null,35.0,35.0,28.0,null,29.0,32.0,25.0,28.0,95.0,44.0,30.0,22.0,20.0,38.0,19.0,25.0,50.0,22.0,25.0,27.0,23.0,36.0,null,12.0,35.0,15.0,40.0,48.0,11.0,11.0,26.0,30.0,20.0,35.0,null,35.0,18.0,23.0,60.0,28.0,null,62.0,50.0,28.0,30.0,25.0,25.0,32.0,40.0,16.0,20.0,32.0,40.0,48.0,36.0,80.0,57.0,20.0,20.0,36.0,40.0,40.0,null,null,22.0,25.0,20.0,15.0,14.0,18.0,16.0,10.0,12.0,28.0,10.0,49.0,85.0,18.0,29.0,36.0,9.0,34.0,15.0,30.0,13.0,12.0,15.0,25.0,45.0,18.0,49.0,22.0,35.0,15.0,45.0,55.0,20.0,18.0,35.0,13.0,40.0,37.0,39.0,60.0,19.0,40.0,14.0,40.0,36.0,17.0,25.0,15.0,26.0,19.0,13.0,30.0,20.0,30.0,50.0,52.0,24.0,34.0,41.0,52.0,215.0,null,60.0,40.0,null,125.0,null,null,45.0,70.0,30.0,35.0,20.0,15.0,19.0,null,28.0,14.0,null,56.0,null,24.0,7.0,30.0,18.0,20.0,18.0,18.0,40.0,null,28.0,15.0,null,null,18.0,20.0,22.0,16.0,18.0,35.0,12.0,11.0,15.0,18.0,16.0,34.0,40.0,15.0,19.0,18.0,42.0,15.0,35.0,16.0,11.0,13.0,18.0,48.0,11.0,20.0,19.0,350.0,350.0,775.0,100.0,225.0,150.0,320.0,68.0,630.0,365.0,68.0,85.0,350.0,66.0,110.0,125.0,60.0,200.0,380.0,48.0,60.0,21.0,10.0,11.0,21.0,160.0,23.0,10.0,15.0,19.0,40.0,18.0,null,18.0,15.0,12.0,11.0,15.0,9.0,30.0,18.0,34.0,17.0,25.0,15.0,12.0,14.0,12.0,11.0,12.0,null,16.0,15.0,13.0,24.0,13.0,19.0,11.0,15.0,45.0,19.0,30.0,14.0,15.0,20.0,20.0,12.0,20.0,13.0,16.0,14.0,14.0,null,null,20.0,null,30.0,20.0,23.0,30.0,18.0,18.0,35.0,17.0,42.0,30.0,24.0,16.0,27.0,89.0,null,15.0,54.0,15.0,42.0,38.0,12.0,35.0,32.0,12.0,28.0,20.0,14.0,19.0,39.0,null,35.0,null,69.0,30.0,40.0,23.0,45.0,50.0,100.0,50.0,29.0,66.0,60.0,115.0,69.0,null,65.0,42.0,27.0,70.0,73.0,72.0,34.0,null,130.0,88.0,65.0,null,15.0,45.0,18.0,60.0,12.0,12.0,13.0,13.0,15.0,18.0,13.0,19.0,18.0,30.0,35.0,12.0,18.0,25.0,30.0,17.0,20.0,11.0,15.0,18.0,19.0,15.0,16.0,12.0,28.0,28.0,65.0,48.0,70.0,59.0,90.0,35.0,75.0,55.0,55.0,60.0,36.0,35.0,35.0,55.0,65.0,35.0,49.0,55.0,30.0,42.0,45.0,24.0,50.0,50.0,50.0,38.0,22.0,50.0,110.0,45.0,42.0,60.0,42.0,30.0,75.0,54.0,85.0,50.0,150.0,85.0,90.0,35.0,46.0,20.0,42.0,40.0,75.0,88.0,40.0,25.0,48.0,45.0,50.0,65.0,48.0,62.0,100.0,53.0,55.0,70.0,38.0,50.0,25.0,15.0,14.0,11.0,14.0,37.0,17.0,15.0,13.0,18.0,26.0,18.0,32.0,18.0,25.0,18.0,20.0,18.0,null,17.0,13.0,41.0,16.0,20.0,30.0,13.0,24.0,36.0,20.0,19.0,15.0,69.0,36.0,35.0,30.0,25.0,25.0,15.0,20.0,17.0,54.0,40.0,12.0,19.0,11.0,45.0,25.0,35.0,16.0,20.0,28.0,25.0,28.0,20.0,15.0,23.0,19.0,35.0,75.0,48.0,54.0,34.0,60.0,48.0,28.0,125.0,45.0,36.0,30.0,37.0,25.0,30.0,60.0,40.0,50.0,23.0,80.0,34.0,75.0,24.0,39.0,21.0,35.0,43.0,30.0,70.0,50.0,40.0,45.0,80.0,15.0,65.0,65.0,35.0,25.0,20.0,15.0,26.0,30.0,13.0,45.0,26.0,44.0,38.0,28.0,32.0,50.0,35.0,35.0,25.0,42.0,45.0,70.0,30.0,75.0,53.0,29.0,90.0,35.0,35.0,50.0,35.0,65.0,50.0,43.0,28.0,null,20.0,40.0,30.0,65.0,17.0,null,20.0,28.0,20.0,20.0,25.0,38.0,120.0,23.0,48.0,32.0,50.0,28.0,30.0,25.0,8.0,15.0,22.0,14.0,25.0,8.0,14.0,80.0,9.0,13.0,17.0,10.0,16.0,10.0,22.0,40.0,15.0,17.0,32.0,12.0,17.0,102.0,null,10.0,20.0,33.0,48.0,12.0,9.0,24.0,75.0,12.0,45.0,13.0,null,22.0,10.0,18.0,35.0,36.0,34.0,70.0,28.0,19.0,14.0,10.0,45.0,32.0,18.0,9.0,11.0,30.0,62.0,40.0,66.0,32.0,70.0,48.0,72.0,18.0,105.0,101.0,50.0,85.0,35.0,38.0,32.0,25.0,12.0,125.0,46.0,29.0,17.0,85.0,30.0,34.0,22.0,35.0,45.0,20.0,17.0,45.0,20.0,50.0,22.0,39.0,35.0,15.0,27.0,66.0,32.0,20.0,125.0,16.0,42.0,22.0,null,18.0,22.0,12.0,15.0,9.0,12.0,15.0,20.0,28.0,10.0,70.0,28.0,11.0,30.0,26.0,15.0,23.0,null,30.0,10.0,12.0,13.0,15.0,36.0,20.0,null,10.0,16.0,25.0,24.0,null,24.0,33.0,null,70.0,117.0,null,16.0,30.0,20.0,35.0,25.0,28.0,15.0,150.0,45.0,30.0,19.0,45.0,40.0,null,25.0,40.0,15.0,42.0,29.0,42.0,18.0,16.0,40.0,null,50.0,null,35.0,45.0,20.0,44.0,22.0,null,28.0,27.0,25.0,60.0,72.0,44.0,28.0,29.0,58.0,15.0,29.0,45.0,70.0,39.0,null,28.0,48.0,50.0,22.0,10.0,50.0,30.0,18.0,30.0,39.0,35.0,30.0,23.0,18.0,30.0,20.0,25.0,20.0,50.0,50.0,15.0,null,9.0,12.0,14.0,18.0,20.0,175.0,12.0,60.0,20.0,15.0,35.0,14.0,16.0,15.0,14.0,40.0,29.0,15.0,55.0,38.0,15.0,34.0,18.0,27.0,17.0,65.0,13.0,15.0,23.0,40.0,32.0,16.0,38.0,15.0,50.0,30.0,24.0,18.0,40.0,18.0,20.0,40.0,11.0,17.0,48.0,9.0,10.0,null,9.0,19.0,15.0,23.0,35.0,30.0,12.0,17.0,16.0,15.0,10.0,41.0,10.0,16.0,25.0,12.0,20.0,null,25.0,20.0,53.0,12.0,null,14.0,12.0,22.0,26.0,14.0,18.0,18.0,17.0],\"type\":\"scatter\"}],                        {\"template\":{\"data\":{\"barpolar\":[{\"marker\":{\"line\":{\"color\":\"#E5ECF6\",\"width\":0.5},\"pattern\":{\"fillmode\":\"overlay\",\"size\":10,\"solidity\":0.2}},\"type\":\"barpolar\"}],\"bar\":[{\"error_x\":{\"color\":\"#2a3f5f\"},\"error_y\":{\"color\":\"#2a3f5f\"},\"marker\":{\"line\":{\"color\":\"#E5ECF6\",\"width\":0.5},\"pattern\":{\"fillmode\":\"overlay\",\"size\":10,\"solidity\":0.2}},\"type\":\"bar\"}],\"carpet\":[{\"aaxis\":{\"endlinecolor\":\"#2a3f5f\",\"gridcolor\":\"white\",\"linecolor\":\"white\",\"minorgridcolor\":\"white\",\"startlinecolor\":\"#2a3f5f\"},\"baxis\":{\"endlinecolor\":\"#2a3f5f\",\"gridcolor\":\"white\",\"linecolor\":\"white\",\"minorgridcolor\":\"white\",\"startlinecolor\":\"#2a3f5f\"},\"type\":\"carpet\"}],\"choropleth\":[{\"colorbar\":{\"outlinewidth\":0,\"ticks\":\"\"},\"type\":\"choropleth\"}],\"contourcarpet\":[{\"colorbar\":{\"outlinewidth\":0,\"ticks\":\"\"},\"type\":\"contourcarpet\"}],\"contour\":[{\"colorbar\":{\"outlinewidth\":0,\"ticks\":\"\"},\"colorscale\":[[0.0,\"#0d0887\"],[0.1111111111111111,\"#46039f\"],[0.2222222222222222,\"#7201a8\"],[0.3333333333333333,\"#9c179e\"],[0.4444444444444444,\"#bd3786\"],[0.5555555555555556,\"#d8576b\"],[0.6666666666666666,\"#ed7953\"],[0.7777777777777778,\"#fb9f3a\"],[0.8888888888888888,\"#fdca26\"],[1.0,\"#f0f921\"]],\"type\":\"contour\"}],\"heatmapgl\":[{\"colorbar\":{\"outlinewidth\":0,\"ticks\":\"\"},\"colorscale\":[[0.0,\"#0d0887\"],[0.1111111111111111,\"#46039f\"],[0.2222222222222222,\"#7201a8\"],[0.3333333333333333,\"#9c179e\"],[0.4444444444444444,\"#bd3786\"],[0.5555555555555556,\"#d8576b\"],[0.6666666666666666,\"#ed7953\"],[0.7777777777777778,\"#fb9f3a\"],[0.8888888888888888,\"#fdca26\"],[1.0,\"#f0f921\"]],\"type\":\"heatmapgl\"}],\"heatmap\":[{\"colorbar\":{\"outlinewidth\":0,\"ticks\":\"\"},\"colorscale\":[[0.0,\"#0d0887\"],[0.1111111111111111,\"#46039f\"],[0.2222222222222222,\"#7201a8\"],[0.3333333333333333,\"#9c179e\"],[0.4444444444444444,\"#bd3786\"],[0.5555555555555556,\"#d8576b\"],[0.6666666666666666,\"#ed7953\"],[0.7777777777777778,\"#fb9f3a\"],[0.8888888888888888,\"#fdca26\"],[1.0,\"#f0f921\"]],\"type\":\"heatmap\"}],\"histogram2dcontour\":[{\"colorbar\":{\"outlinewidth\":0,\"ticks\":\"\"},\"colorscale\":[[0.0,\"#0d0887\"],[0.1111111111111111,\"#46039f\"],[0.2222222222222222,\"#7201a8\"],[0.3333333333333333,\"#9c179e\"],[0.4444444444444444,\"#bd3786\"],[0.5555555555555556,\"#d8576b\"],[0.6666666666666666,\"#ed7953\"],[0.7777777777777778,\"#fb9f3a\"],[0.8888888888888888,\"#fdca26\"],[1.0,\"#f0f921\"]],\"type\":\"histogram2dcontour\"}],\"histogram2d\":[{\"colorbar\":{\"outlinewidth\":0,\"ticks\":\"\"},\"colorscale\":[[0.0,\"#0d0887\"],[0.1111111111111111,\"#46039f\"],[0.2222222222222222,\"#7201a8\"],[0.3333333333333333,\"#9c179e\"],[0.4444444444444444,\"#bd3786\"],[0.5555555555555556,\"#d8576b\"],[0.6666666666666666,\"#ed7953\"],[0.7777777777777778,\"#fb9f3a\"],[0.8888888888888888,\"#fdca26\"],[1.0,\"#f0f921\"]],\"type\":\"histogram2d\"}],\"histogram\":[{\"marker\":{\"pattern\":{\"fillmode\":\"overlay\",\"size\":10,\"solidity\":0.2}},\"type\":\"histogram\"}],\"mesh3d\":[{\"colorbar\":{\"outlinewidth\":0,\"ticks\":\"\"},\"type\":\"mesh3d\"}],\"parcoords\":[{\"line\":{\"colorbar\":{\"outlinewidth\":0,\"ticks\":\"\"}},\"type\":\"parcoords\"}],\"pie\":[{\"automargin\":true,\"type\":\"pie\"}],\"scatter3d\":[{\"line\":{\"colorbar\":{\"outlinewidth\":0,\"ticks\":\"\"}},\"marker\":{\"colorbar\":{\"outlinewidth\":0,\"ticks\":\"\"}},\"type\":\"scatter3d\"}],\"scattercarpet\":[{\"marker\":{\"colorbar\":{\"outlinewidth\":0,\"ticks\":\"\"}},\"type\":\"scattercarpet\"}],\"scattergeo\":[{\"marker\":{\"colorbar\":{\"outlinewidth\":0,\"ticks\":\"\"}},\"type\":\"scattergeo\"}],\"scattergl\":[{\"marker\":{\"colorbar\":{\"outlinewidth\":0,\"ticks\":\"\"}},\"type\":\"scattergl\"}],\"scattermapbox\":[{\"marker\":{\"colorbar\":{\"outlinewidth\":0,\"ticks\":\"\"}},\"type\":\"scattermapbox\"}],\"scatterpolargl\":[{\"marker\":{\"colorbar\":{\"outlinewidth\":0,\"ticks\":\"\"}},\"type\":\"scatterpolargl\"}],\"scatterpolar\":[{\"marker\":{\"colorbar\":{\"outlinewidth\":0,\"ticks\":\"\"}},\"type\":\"scatterpolar\"}],\"scatter\":[{\"fillpattern\":{\"fillmode\":\"overlay\",\"size\":10,\"solidity\":0.2},\"type\":\"scatter\"}],\"scatterternary\":[{\"marker\":{\"colorbar\":{\"outlinewidth\":0,\"ticks\":\"\"}},\"type\":\"scatterternary\"}],\"surface\":[{\"colorbar\":{\"outlinewidth\":0,\"ticks\":\"\"},\"colorscale\":[[0.0,\"#0d0887\"],[0.1111111111111111,\"#46039f\"],[0.2222222222222222,\"#7201a8\"],[0.3333333333333333,\"#9c179e\"],[0.4444444444444444,\"#bd3786\"],[0.5555555555555556,\"#d8576b\"],[0.6666666666666666,\"#ed7953\"],[0.7777777777777778,\"#fb9f3a\"],[0.8888888888888888,\"#fdca26\"],[1.0,\"#f0f921\"]],\"type\":\"surface\"}],\"table\":[{\"cells\":{\"fill\":{\"color\":\"#EBF0F8\"},\"line\":{\"color\":\"white\"}},\"header\":{\"fill\":{\"color\":\"#C8D4E3\"},\"line\":{\"color\":\"white\"}},\"type\":\"table\"}]},\"layout\":{\"annotationdefaults\":{\"arrowcolor\":\"#2a3f5f\",\"arrowhead\":0,\"arrowwidth\":1},\"autotypenumbers\":\"strict\",\"coloraxis\":{\"colorbar\":{\"outlinewidth\":0,\"ticks\":\"\"}},\"colorscale\":{\"diverging\":[[0,\"#8e0152\"],[0.1,\"#c51b7d\"],[0.2,\"#de77ae\"],[0.3,\"#f1b6da\"],[0.4,\"#fde0ef\"],[0.5,\"#f7f7f7\"],[0.6,\"#e6f5d0\"],[0.7,\"#b8e186\"],[0.8,\"#7fbc41\"],[0.9,\"#4d9221\"],[1,\"#276419\"]],\"sequential\":[[0.0,\"#0d0887\"],[0.1111111111111111,\"#46039f\"],[0.2222222222222222,\"#7201a8\"],[0.3333333333333333,\"#9c179e\"],[0.4444444444444444,\"#bd3786\"],[0.5555555555555556,\"#d8576b\"],[0.6666666666666666,\"#ed7953\"],[0.7777777777777778,\"#fb9f3a\"],[0.8888888888888888,\"#fdca26\"],[1.0,\"#f0f921\"]],\"sequentialminus\":[[0.0,\"#0d0887\"],[0.1111111111111111,\"#46039f\"],[0.2222222222222222,\"#7201a8\"],[0.3333333333333333,\"#9c179e\"],[0.4444444444444444,\"#bd3786\"],[0.5555555555555556,\"#d8576b\"],[0.6666666666666666,\"#ed7953\"],[0.7777777777777778,\"#fb9f3a\"],[0.8888888888888888,\"#fdca26\"],[1.0,\"#f0f921\"]]},\"colorway\":[\"#636efa\",\"#EF553B\",\"#00cc96\",\"#ab63fa\",\"#FFA15A\",\"#19d3f3\",\"#FF6692\",\"#B6E880\",\"#FF97FF\",\"#FECB52\"],\"font\":{\"color\":\"#2a3f5f\"},\"geo\":{\"bgcolor\":\"white\",\"lakecolor\":\"white\",\"landcolor\":\"#E5ECF6\",\"showlakes\":true,\"showland\":true,\"subunitcolor\":\"white\"},\"hoverlabel\":{\"align\":\"left\"},\"hovermode\":\"closest\",\"mapbox\":{\"style\":\"light\"},\"paper_bgcolor\":\"white\",\"plot_bgcolor\":\"#E5ECF6\",\"polar\":{\"angularaxis\":{\"gridcolor\":\"white\",\"linecolor\":\"white\",\"ticks\":\"\"},\"bgcolor\":\"#E5ECF6\",\"radialaxis\":{\"gridcolor\":\"white\",\"linecolor\":\"white\",\"ticks\":\"\"}},\"scene\":{\"xaxis\":{\"backgroundcolor\":\"#E5ECF6\",\"gridcolor\":\"white\",\"gridwidth\":2,\"linecolor\":\"white\",\"showbackground\":true,\"ticks\":\"\",\"zerolinecolor\":\"white\"},\"yaxis\":{\"backgroundcolor\":\"#E5ECF6\",\"gridcolor\":\"white\",\"gridwidth\":2,\"linecolor\":\"white\",\"showbackground\":true,\"ticks\":\"\",\"zerolinecolor\":\"white\"},\"zaxis\":{\"backgroundcolor\":\"#E5ECF6\",\"gridcolor\":\"white\",\"gridwidth\":2,\"linecolor\":\"white\",\"showbackground\":true,\"ticks\":\"\",\"zerolinecolor\":\"white\"}},\"shapedefaults\":{\"line\":{\"color\":\"#2a3f5f\"}},\"ternary\":{\"aaxis\":{\"gridcolor\":\"white\",\"linecolor\":\"white\",\"ticks\":\"\"},\"baxis\":{\"gridcolor\":\"white\",\"linecolor\":\"white\",\"ticks\":\"\"},\"bgcolor\":\"#E5ECF6\",\"caxis\":{\"gridcolor\":\"white\",\"linecolor\":\"white\",\"ticks\":\"\"}},\"title\":{\"x\":0.05},\"xaxis\":{\"automargin\":true,\"gridcolor\":\"white\",\"linecolor\":\"white\",\"ticks\":\"\",\"title\":{\"standoff\":15},\"zerolinecolor\":\"white\",\"zerolinewidth\":2},\"yaxis\":{\"automargin\":true,\"gridcolor\":\"white\",\"linecolor\":\"white\",\"ticks\":\"\",\"title\":{\"standoff\":15},\"zerolinecolor\":\"white\",\"zerolinewidth\":2}}}},                        {\"responsive\": true}                    ).then(function(){\n",
       "                            \n",
       "var gd = document.getElementById('1f903d38-8375-4846-b187-44b13c6f38c4');\n",
       "var x = new MutationObserver(function (mutations, observer) {{\n",
       "        var display = window.getComputedStyle(gd).display;\n",
       "        if (!display || display === 'none') {{\n",
       "            console.log([gd, 'removed!']);\n",
       "            Plotly.purge(gd);\n",
       "            observer.disconnect();\n",
       "        }}\n",
       "}});\n",
       "\n",
       "// Listen for the removal of the full notebook cells\n",
       "var notebookContainer = gd.closest('#notebook-container');\n",
       "if (notebookContainer) {{\n",
       "    x.observe(notebookContainer, {childList: true});\n",
       "}}\n",
       "\n",
       "// Listen for the clearing of the current output cell\n",
       "var outputEl = gd.closest('.output');\n",
       "if (outputEl) {{\n",
       "    x.observe(outputEl, {childList: true});\n",
       "}}\n",
       "\n",
       "                        })                };                });            </script>        </div>"
      ]
     },
     "metadata": {},
     "output_type": "display_data"
    }
   ],
   "source": [
    "iplot([go.Histogram2dContour(x=reviews.head(500)['points'], \n",
    "                             y=reviews.head(500)['price'], \n",
    "                             contours=go.Contours(coloring='heatmap')),\n",
    "       go.Scatter(x=reviews.head(1000)['points'], y=reviews.head(1000)['price'])])"
   ]
  },
  {
   "cell_type": "code",
   "execution_count": 14,
   "id": "f2efa7bc",
   "metadata": {},
   "outputs": [],
   "source": [
    "df = reviews.assign(n=0).groupby(['points', 'price'])['n'].count().reset_index()\n",
    "df = df[df[\"price\"] < 1000]\n",
    "v = df.pivot(index='price', columns='points', values='n').fillna(0).values.tolist()"
   ]
  },
  {
   "cell_type": "code",
   "execution_count": null,
   "id": "908b3da3",
   "metadata": {},
   "outputs": [],
   "source": [
    "iplot([go.Surface(z=v)])"
   ]
  },
  {
   "cell_type": "code",
   "execution_count": 15,
   "id": "2a792d79",
   "metadata": {},
   "outputs": [
    {
     "data": {
      "application/vnd.plotly.v1+json": {
       "config": {
        "linkText": "Export to plot.ly",
        "plotlyServerURL": "https://plot.ly",
        "showLink": false
       },
       "data": [
        {
         "locationmode": "country names",
         "locations": [
          "United States",
          "France",
          "Italy",
          "Spain",
          "Portugal",
          "Chile",
          "Argentina",
          "Austria",
          "Australia",
          "Germany",
          "New Zealand",
          "South Africa",
          "Israel",
          "Greece",
          "Canada",
          "Hungary",
          "Bulgaria",
          "Romania",
          "Uruguay",
          "Turkey",
          "Slovenia",
          "Georgia",
          "England",
          "Croatia",
          "Mexico",
          "Moldova",
          "Brazil",
          "Lebanon",
          "Morocco",
          "Peru",
          "Ukraine",
          "Serbia",
          "Czech Republic",
          "Macedonia",
          "Cyprus",
          "India",
          "Switzerland",
          "Luxembourg",
          "Bosnia and Herzegovina",
          "Armenia",
          "Slovakia",
          "China",
          "Egypt"
         ],
         "text": [
          "United States",
          "France",
          "Italy",
          "Spain",
          "Portugal",
          "Chile",
          "Argentina",
          "Austria",
          "Australia",
          "Germany",
          "New Zealand",
          "South Africa",
          "Israel",
          "Greece",
          "Canada",
          "Hungary",
          "Bulgaria",
          "Romania",
          "Uruguay",
          "Turkey",
          "Slovenia",
          "Georgia",
          "England",
          "Croatia",
          "Mexico",
          "Moldova",
          "Brazil",
          "Lebanon",
          "Morocco",
          "Peru",
          "Ukraine",
          "Serbia",
          "Czech Republic",
          "Macedonia",
          "Cyprus",
          "India",
          "Switzerland",
          "Luxembourg",
          "Bosnia and Herzegovina",
          "Armenia",
          "Slovakia",
          "China",
          "Egypt"
         ],
         "type": "choropleth",
         "z": [
          54504,
          22093,
          19540,
          6645,
          5691,
          4472,
          3800,
          3345,
          2329,
          2165,
          1419,
          1401,
          505,
          466,
          257,
          146,
          141,
          120,
          109,
          90,
          87,
          86,
          74,
          73,
          70,
          59,
          52,
          35,
          28,
          16,
          14,
          12,
          12,
          12,
          11,
          9,
          7,
          6,
          2,
          2,
          1,
          1,
          1
         ]
        }
       ],
       "layout": {
        "template": {
         "data": {
          "bar": [
           {
            "error_x": {
             "color": "#2a3f5f"
            },
            "error_y": {
             "color": "#2a3f5f"
            },
            "marker": {
             "line": {
              "color": "#E5ECF6",
              "width": 0.5
             },
             "pattern": {
              "fillmode": "overlay",
              "size": 10,
              "solidity": 0.2
             }
            },
            "type": "bar"
           }
          ],
          "barpolar": [
           {
            "marker": {
             "line": {
              "color": "#E5ECF6",
              "width": 0.5
             },
             "pattern": {
              "fillmode": "overlay",
              "size": 10,
              "solidity": 0.2
             }
            },
            "type": "barpolar"
           }
          ],
          "carpet": [
           {
            "aaxis": {
             "endlinecolor": "#2a3f5f",
             "gridcolor": "white",
             "linecolor": "white",
             "minorgridcolor": "white",
             "startlinecolor": "#2a3f5f"
            },
            "baxis": {
             "endlinecolor": "#2a3f5f",
             "gridcolor": "white",
             "linecolor": "white",
             "minorgridcolor": "white",
             "startlinecolor": "#2a3f5f"
            },
            "type": "carpet"
           }
          ],
          "choropleth": [
           {
            "colorbar": {
             "outlinewidth": 0,
             "ticks": ""
            },
            "type": "choropleth"
           }
          ],
          "contour": [
           {
            "colorbar": {
             "outlinewidth": 0,
             "ticks": ""
            },
            "colorscale": [
             [
              0,
              "#0d0887"
             ],
             [
              0.1111111111111111,
              "#46039f"
             ],
             [
              0.2222222222222222,
              "#7201a8"
             ],
             [
              0.3333333333333333,
              "#9c179e"
             ],
             [
              0.4444444444444444,
              "#bd3786"
             ],
             [
              0.5555555555555556,
              "#d8576b"
             ],
             [
              0.6666666666666666,
              "#ed7953"
             ],
             [
              0.7777777777777778,
              "#fb9f3a"
             ],
             [
              0.8888888888888888,
              "#fdca26"
             ],
             [
              1,
              "#f0f921"
             ]
            ],
            "type": "contour"
           }
          ],
          "contourcarpet": [
           {
            "colorbar": {
             "outlinewidth": 0,
             "ticks": ""
            },
            "type": "contourcarpet"
           }
          ],
          "heatmap": [
           {
            "colorbar": {
             "outlinewidth": 0,
             "ticks": ""
            },
            "colorscale": [
             [
              0,
              "#0d0887"
             ],
             [
              0.1111111111111111,
              "#46039f"
             ],
             [
              0.2222222222222222,
              "#7201a8"
             ],
             [
              0.3333333333333333,
              "#9c179e"
             ],
             [
              0.4444444444444444,
              "#bd3786"
             ],
             [
              0.5555555555555556,
              "#d8576b"
             ],
             [
              0.6666666666666666,
              "#ed7953"
             ],
             [
              0.7777777777777778,
              "#fb9f3a"
             ],
             [
              0.8888888888888888,
              "#fdca26"
             ],
             [
              1,
              "#f0f921"
             ]
            ],
            "type": "heatmap"
           }
          ],
          "heatmapgl": [
           {
            "colorbar": {
             "outlinewidth": 0,
             "ticks": ""
            },
            "colorscale": [
             [
              0,
              "#0d0887"
             ],
             [
              0.1111111111111111,
              "#46039f"
             ],
             [
              0.2222222222222222,
              "#7201a8"
             ],
             [
              0.3333333333333333,
              "#9c179e"
             ],
             [
              0.4444444444444444,
              "#bd3786"
             ],
             [
              0.5555555555555556,
              "#d8576b"
             ],
             [
              0.6666666666666666,
              "#ed7953"
             ],
             [
              0.7777777777777778,
              "#fb9f3a"
             ],
             [
              0.8888888888888888,
              "#fdca26"
             ],
             [
              1,
              "#f0f921"
             ]
            ],
            "type": "heatmapgl"
           }
          ],
          "histogram": [
           {
            "marker": {
             "pattern": {
              "fillmode": "overlay",
              "size": 10,
              "solidity": 0.2
             }
            },
            "type": "histogram"
           }
          ],
          "histogram2d": [
           {
            "colorbar": {
             "outlinewidth": 0,
             "ticks": ""
            },
            "colorscale": [
             [
              0,
              "#0d0887"
             ],
             [
              0.1111111111111111,
              "#46039f"
             ],
             [
              0.2222222222222222,
              "#7201a8"
             ],
             [
              0.3333333333333333,
              "#9c179e"
             ],
             [
              0.4444444444444444,
              "#bd3786"
             ],
             [
              0.5555555555555556,
              "#d8576b"
             ],
             [
              0.6666666666666666,
              "#ed7953"
             ],
             [
              0.7777777777777778,
              "#fb9f3a"
             ],
             [
              0.8888888888888888,
              "#fdca26"
             ],
             [
              1,
              "#f0f921"
             ]
            ],
            "type": "histogram2d"
           }
          ],
          "histogram2dcontour": [
           {
            "colorbar": {
             "outlinewidth": 0,
             "ticks": ""
            },
            "colorscale": [
             [
              0,
              "#0d0887"
             ],
             [
              0.1111111111111111,
              "#46039f"
             ],
             [
              0.2222222222222222,
              "#7201a8"
             ],
             [
              0.3333333333333333,
              "#9c179e"
             ],
             [
              0.4444444444444444,
              "#bd3786"
             ],
             [
              0.5555555555555556,
              "#d8576b"
             ],
             [
              0.6666666666666666,
              "#ed7953"
             ],
             [
              0.7777777777777778,
              "#fb9f3a"
             ],
             [
              0.8888888888888888,
              "#fdca26"
             ],
             [
              1,
              "#f0f921"
             ]
            ],
            "type": "histogram2dcontour"
           }
          ],
          "mesh3d": [
           {
            "colorbar": {
             "outlinewidth": 0,
             "ticks": ""
            },
            "type": "mesh3d"
           }
          ],
          "parcoords": [
           {
            "line": {
             "colorbar": {
              "outlinewidth": 0,
              "ticks": ""
             }
            },
            "type": "parcoords"
           }
          ],
          "pie": [
           {
            "automargin": true,
            "type": "pie"
           }
          ],
          "scatter": [
           {
            "fillpattern": {
             "fillmode": "overlay",
             "size": 10,
             "solidity": 0.2
            },
            "type": "scatter"
           }
          ],
          "scatter3d": [
           {
            "line": {
             "colorbar": {
              "outlinewidth": 0,
              "ticks": ""
             }
            },
            "marker": {
             "colorbar": {
              "outlinewidth": 0,
              "ticks": ""
             }
            },
            "type": "scatter3d"
           }
          ],
          "scattercarpet": [
           {
            "marker": {
             "colorbar": {
              "outlinewidth": 0,
              "ticks": ""
             }
            },
            "type": "scattercarpet"
           }
          ],
          "scattergeo": [
           {
            "marker": {
             "colorbar": {
              "outlinewidth": 0,
              "ticks": ""
             }
            },
            "type": "scattergeo"
           }
          ],
          "scattergl": [
           {
            "marker": {
             "colorbar": {
              "outlinewidth": 0,
              "ticks": ""
             }
            },
            "type": "scattergl"
           }
          ],
          "scattermapbox": [
           {
            "marker": {
             "colorbar": {
              "outlinewidth": 0,
              "ticks": ""
             }
            },
            "type": "scattermapbox"
           }
          ],
          "scatterpolar": [
           {
            "marker": {
             "colorbar": {
              "outlinewidth": 0,
              "ticks": ""
             }
            },
            "type": "scatterpolar"
           }
          ],
          "scatterpolargl": [
           {
            "marker": {
             "colorbar": {
              "outlinewidth": 0,
              "ticks": ""
             }
            },
            "type": "scatterpolargl"
           }
          ],
          "scatterternary": [
           {
            "marker": {
             "colorbar": {
              "outlinewidth": 0,
              "ticks": ""
             }
            },
            "type": "scatterternary"
           }
          ],
          "surface": [
           {
            "colorbar": {
             "outlinewidth": 0,
             "ticks": ""
            },
            "colorscale": [
             [
              0,
              "#0d0887"
             ],
             [
              0.1111111111111111,
              "#46039f"
             ],
             [
              0.2222222222222222,
              "#7201a8"
             ],
             [
              0.3333333333333333,
              "#9c179e"
             ],
             [
              0.4444444444444444,
              "#bd3786"
             ],
             [
              0.5555555555555556,
              "#d8576b"
             ],
             [
              0.6666666666666666,
              "#ed7953"
             ],
             [
              0.7777777777777778,
              "#fb9f3a"
             ],
             [
              0.8888888888888888,
              "#fdca26"
             ],
             [
              1,
              "#f0f921"
             ]
            ],
            "type": "surface"
           }
          ],
          "table": [
           {
            "cells": {
             "fill": {
              "color": "#EBF0F8"
             },
             "line": {
              "color": "white"
             }
            },
            "header": {
             "fill": {
              "color": "#C8D4E3"
             },
             "line": {
              "color": "white"
             }
            },
            "type": "table"
           }
          ]
         },
         "layout": {
          "annotationdefaults": {
           "arrowcolor": "#2a3f5f",
           "arrowhead": 0,
           "arrowwidth": 1
          },
          "autotypenumbers": "strict",
          "coloraxis": {
           "colorbar": {
            "outlinewidth": 0,
            "ticks": ""
           }
          },
          "colorscale": {
           "diverging": [
            [
             0,
             "#8e0152"
            ],
            [
             0.1,
             "#c51b7d"
            ],
            [
             0.2,
             "#de77ae"
            ],
            [
             0.3,
             "#f1b6da"
            ],
            [
             0.4,
             "#fde0ef"
            ],
            [
             0.5,
             "#f7f7f7"
            ],
            [
             0.6,
             "#e6f5d0"
            ],
            [
             0.7,
             "#b8e186"
            ],
            [
             0.8,
             "#7fbc41"
            ],
            [
             0.9,
             "#4d9221"
            ],
            [
             1,
             "#276419"
            ]
           ],
           "sequential": [
            [
             0,
             "#0d0887"
            ],
            [
             0.1111111111111111,
             "#46039f"
            ],
            [
             0.2222222222222222,
             "#7201a8"
            ],
            [
             0.3333333333333333,
             "#9c179e"
            ],
            [
             0.4444444444444444,
             "#bd3786"
            ],
            [
             0.5555555555555556,
             "#d8576b"
            ],
            [
             0.6666666666666666,
             "#ed7953"
            ],
            [
             0.7777777777777778,
             "#fb9f3a"
            ],
            [
             0.8888888888888888,
             "#fdca26"
            ],
            [
             1,
             "#f0f921"
            ]
           ],
           "sequentialminus": [
            [
             0,
             "#0d0887"
            ],
            [
             0.1111111111111111,
             "#46039f"
            ],
            [
             0.2222222222222222,
             "#7201a8"
            ],
            [
             0.3333333333333333,
             "#9c179e"
            ],
            [
             0.4444444444444444,
             "#bd3786"
            ],
            [
             0.5555555555555556,
             "#d8576b"
            ],
            [
             0.6666666666666666,
             "#ed7953"
            ],
            [
             0.7777777777777778,
             "#fb9f3a"
            ],
            [
             0.8888888888888888,
             "#fdca26"
            ],
            [
             1,
             "#f0f921"
            ]
           ]
          },
          "colorway": [
           "#636efa",
           "#EF553B",
           "#00cc96",
           "#ab63fa",
           "#FFA15A",
           "#19d3f3",
           "#FF6692",
           "#B6E880",
           "#FF97FF",
           "#FECB52"
          ],
          "font": {
           "color": "#2a3f5f"
          },
          "geo": {
           "bgcolor": "white",
           "lakecolor": "white",
           "landcolor": "#E5ECF6",
           "showlakes": true,
           "showland": true,
           "subunitcolor": "white"
          },
          "hoverlabel": {
           "align": "left"
          },
          "hovermode": "closest",
          "mapbox": {
           "style": "light"
          },
          "paper_bgcolor": "white",
          "plot_bgcolor": "#E5ECF6",
          "polar": {
           "angularaxis": {
            "gridcolor": "white",
            "linecolor": "white",
            "ticks": ""
           },
           "bgcolor": "#E5ECF6",
           "radialaxis": {
            "gridcolor": "white",
            "linecolor": "white",
            "ticks": ""
           }
          },
          "scene": {
           "xaxis": {
            "backgroundcolor": "#E5ECF6",
            "gridcolor": "white",
            "gridwidth": 2,
            "linecolor": "white",
            "showbackground": true,
            "ticks": "",
            "zerolinecolor": "white"
           },
           "yaxis": {
            "backgroundcolor": "#E5ECF6",
            "gridcolor": "white",
            "gridwidth": 2,
            "linecolor": "white",
            "showbackground": true,
            "ticks": "",
            "zerolinecolor": "white"
           },
           "zaxis": {
            "backgroundcolor": "#E5ECF6",
            "gridcolor": "white",
            "gridwidth": 2,
            "linecolor": "white",
            "showbackground": true,
            "ticks": "",
            "zerolinecolor": "white"
           }
          },
          "shapedefaults": {
           "line": {
            "color": "#2a3f5f"
           }
          },
          "ternary": {
           "aaxis": {
            "gridcolor": "white",
            "linecolor": "white",
            "ticks": ""
           },
           "baxis": {
            "gridcolor": "white",
            "linecolor": "white",
            "ticks": ""
           },
           "bgcolor": "#E5ECF6",
           "caxis": {
            "gridcolor": "white",
            "linecolor": "white",
            "ticks": ""
           }
          },
          "title": {
           "x": 0.05
          },
          "xaxis": {
           "automargin": true,
           "gridcolor": "white",
           "linecolor": "white",
           "ticks": "",
           "title": {
            "standoff": 15
           },
           "zerolinecolor": "white",
           "zerolinewidth": 2
          },
          "yaxis": {
           "automargin": true,
           "gridcolor": "white",
           "linecolor": "white",
           "ticks": "",
           "title": {
            "standoff": 15
           },
           "zerolinecolor": "white",
           "zerolinewidth": 2
          }
         }
        }
       }
      },
      "text/html": [
       "<div>                            <div id=\"3af32a5e-29c7-4562-8ef4-fb40c5500b9e\" class=\"plotly-graph-div\" style=\"height:525px; width:100%;\"></div>            <script type=\"text/javascript\">                require([\"plotly\"], function(Plotly) {                    window.PLOTLYENV=window.PLOTLYENV || {};                                    if (document.getElementById(\"3af32a5e-29c7-4562-8ef4-fb40c5500b9e\")) {                    Plotly.newPlot(                        \"3af32a5e-29c7-4562-8ef4-fb40c5500b9e\",                        [{\"locationmode\":\"country names\",\"locations\":[\"United States\",\"France\",\"Italy\",\"Spain\",\"Portugal\",\"Chile\",\"Argentina\",\"Austria\",\"Australia\",\"Germany\",\"New Zealand\",\"South Africa\",\"Israel\",\"Greece\",\"Canada\",\"Hungary\",\"Bulgaria\",\"Romania\",\"Uruguay\",\"Turkey\",\"Slovenia\",\"Georgia\",\"England\",\"Croatia\",\"Mexico\",\"Moldova\",\"Brazil\",\"Lebanon\",\"Morocco\",\"Peru\",\"Ukraine\",\"Serbia\",\"Czech Republic\",\"Macedonia\",\"Cyprus\",\"India\",\"Switzerland\",\"Luxembourg\",\"Bosnia and Herzegovina\",\"Armenia\",\"Slovakia\",\"China\",\"Egypt\"],\"text\":[\"United States\",\"France\",\"Italy\",\"Spain\",\"Portugal\",\"Chile\",\"Argentina\",\"Austria\",\"Australia\",\"Germany\",\"New Zealand\",\"South Africa\",\"Israel\",\"Greece\",\"Canada\",\"Hungary\",\"Bulgaria\",\"Romania\",\"Uruguay\",\"Turkey\",\"Slovenia\",\"Georgia\",\"England\",\"Croatia\",\"Mexico\",\"Moldova\",\"Brazil\",\"Lebanon\",\"Morocco\",\"Peru\",\"Ukraine\",\"Serbia\",\"Czech Republic\",\"Macedonia\",\"Cyprus\",\"India\",\"Switzerland\",\"Luxembourg\",\"Bosnia and Herzegovina\",\"Armenia\",\"Slovakia\",\"China\",\"Egypt\"],\"z\":[54504,22093,19540,6645,5691,4472,3800,3345,2329,2165,1419,1401,505,466,257,146,141,120,109,90,87,86,74,73,70,59,52,35,28,16,14,12,12,12,11,9,7,6,2,2,1,1,1],\"type\":\"choropleth\"}],                        {\"template\":{\"data\":{\"barpolar\":[{\"marker\":{\"line\":{\"color\":\"#E5ECF6\",\"width\":0.5},\"pattern\":{\"fillmode\":\"overlay\",\"size\":10,\"solidity\":0.2}},\"type\":\"barpolar\"}],\"bar\":[{\"error_x\":{\"color\":\"#2a3f5f\"},\"error_y\":{\"color\":\"#2a3f5f\"},\"marker\":{\"line\":{\"color\":\"#E5ECF6\",\"width\":0.5},\"pattern\":{\"fillmode\":\"overlay\",\"size\":10,\"solidity\":0.2}},\"type\":\"bar\"}],\"carpet\":[{\"aaxis\":{\"endlinecolor\":\"#2a3f5f\",\"gridcolor\":\"white\",\"linecolor\":\"white\",\"minorgridcolor\":\"white\",\"startlinecolor\":\"#2a3f5f\"},\"baxis\":{\"endlinecolor\":\"#2a3f5f\",\"gridcolor\":\"white\",\"linecolor\":\"white\",\"minorgridcolor\":\"white\",\"startlinecolor\":\"#2a3f5f\"},\"type\":\"carpet\"}],\"choropleth\":[{\"colorbar\":{\"outlinewidth\":0,\"ticks\":\"\"},\"type\":\"choropleth\"}],\"contourcarpet\":[{\"colorbar\":{\"outlinewidth\":0,\"ticks\":\"\"},\"type\":\"contourcarpet\"}],\"contour\":[{\"colorbar\":{\"outlinewidth\":0,\"ticks\":\"\"},\"colorscale\":[[0.0,\"#0d0887\"],[0.1111111111111111,\"#46039f\"],[0.2222222222222222,\"#7201a8\"],[0.3333333333333333,\"#9c179e\"],[0.4444444444444444,\"#bd3786\"],[0.5555555555555556,\"#d8576b\"],[0.6666666666666666,\"#ed7953\"],[0.7777777777777778,\"#fb9f3a\"],[0.8888888888888888,\"#fdca26\"],[1.0,\"#f0f921\"]],\"type\":\"contour\"}],\"heatmapgl\":[{\"colorbar\":{\"outlinewidth\":0,\"ticks\":\"\"},\"colorscale\":[[0.0,\"#0d0887\"],[0.1111111111111111,\"#46039f\"],[0.2222222222222222,\"#7201a8\"],[0.3333333333333333,\"#9c179e\"],[0.4444444444444444,\"#bd3786\"],[0.5555555555555556,\"#d8576b\"],[0.6666666666666666,\"#ed7953\"],[0.7777777777777778,\"#fb9f3a\"],[0.8888888888888888,\"#fdca26\"],[1.0,\"#f0f921\"]],\"type\":\"heatmapgl\"}],\"heatmap\":[{\"colorbar\":{\"outlinewidth\":0,\"ticks\":\"\"},\"colorscale\":[[0.0,\"#0d0887\"],[0.1111111111111111,\"#46039f\"],[0.2222222222222222,\"#7201a8\"],[0.3333333333333333,\"#9c179e\"],[0.4444444444444444,\"#bd3786\"],[0.5555555555555556,\"#d8576b\"],[0.6666666666666666,\"#ed7953\"],[0.7777777777777778,\"#fb9f3a\"],[0.8888888888888888,\"#fdca26\"],[1.0,\"#f0f921\"]],\"type\":\"heatmap\"}],\"histogram2dcontour\":[{\"colorbar\":{\"outlinewidth\":0,\"ticks\":\"\"},\"colorscale\":[[0.0,\"#0d0887\"],[0.1111111111111111,\"#46039f\"],[0.2222222222222222,\"#7201a8\"],[0.3333333333333333,\"#9c179e\"],[0.4444444444444444,\"#bd3786\"],[0.5555555555555556,\"#d8576b\"],[0.6666666666666666,\"#ed7953\"],[0.7777777777777778,\"#fb9f3a\"],[0.8888888888888888,\"#fdca26\"],[1.0,\"#f0f921\"]],\"type\":\"histogram2dcontour\"}],\"histogram2d\":[{\"colorbar\":{\"outlinewidth\":0,\"ticks\":\"\"},\"colorscale\":[[0.0,\"#0d0887\"],[0.1111111111111111,\"#46039f\"],[0.2222222222222222,\"#7201a8\"],[0.3333333333333333,\"#9c179e\"],[0.4444444444444444,\"#bd3786\"],[0.5555555555555556,\"#d8576b\"],[0.6666666666666666,\"#ed7953\"],[0.7777777777777778,\"#fb9f3a\"],[0.8888888888888888,\"#fdca26\"],[1.0,\"#f0f921\"]],\"type\":\"histogram2d\"}],\"histogram\":[{\"marker\":{\"pattern\":{\"fillmode\":\"overlay\",\"size\":10,\"solidity\":0.2}},\"type\":\"histogram\"}],\"mesh3d\":[{\"colorbar\":{\"outlinewidth\":0,\"ticks\":\"\"},\"type\":\"mesh3d\"}],\"parcoords\":[{\"line\":{\"colorbar\":{\"outlinewidth\":0,\"ticks\":\"\"}},\"type\":\"parcoords\"}],\"pie\":[{\"automargin\":true,\"type\":\"pie\"}],\"scatter3d\":[{\"line\":{\"colorbar\":{\"outlinewidth\":0,\"ticks\":\"\"}},\"marker\":{\"colorbar\":{\"outlinewidth\":0,\"ticks\":\"\"}},\"type\":\"scatter3d\"}],\"scattercarpet\":[{\"marker\":{\"colorbar\":{\"outlinewidth\":0,\"ticks\":\"\"}},\"type\":\"scattercarpet\"}],\"scattergeo\":[{\"marker\":{\"colorbar\":{\"outlinewidth\":0,\"ticks\":\"\"}},\"type\":\"scattergeo\"}],\"scattergl\":[{\"marker\":{\"colorbar\":{\"outlinewidth\":0,\"ticks\":\"\"}},\"type\":\"scattergl\"}],\"scattermapbox\":[{\"marker\":{\"colorbar\":{\"outlinewidth\":0,\"ticks\":\"\"}},\"type\":\"scattermapbox\"}],\"scatterpolargl\":[{\"marker\":{\"colorbar\":{\"outlinewidth\":0,\"ticks\":\"\"}},\"type\":\"scatterpolargl\"}],\"scatterpolar\":[{\"marker\":{\"colorbar\":{\"outlinewidth\":0,\"ticks\":\"\"}},\"type\":\"scatterpolar\"}],\"scatter\":[{\"fillpattern\":{\"fillmode\":\"overlay\",\"size\":10,\"solidity\":0.2},\"type\":\"scatter\"}],\"scatterternary\":[{\"marker\":{\"colorbar\":{\"outlinewidth\":0,\"ticks\":\"\"}},\"type\":\"scatterternary\"}],\"surface\":[{\"colorbar\":{\"outlinewidth\":0,\"ticks\":\"\"},\"colorscale\":[[0.0,\"#0d0887\"],[0.1111111111111111,\"#46039f\"],[0.2222222222222222,\"#7201a8\"],[0.3333333333333333,\"#9c179e\"],[0.4444444444444444,\"#bd3786\"],[0.5555555555555556,\"#d8576b\"],[0.6666666666666666,\"#ed7953\"],[0.7777777777777778,\"#fb9f3a\"],[0.8888888888888888,\"#fdca26\"],[1.0,\"#f0f921\"]],\"type\":\"surface\"}],\"table\":[{\"cells\":{\"fill\":{\"color\":\"#EBF0F8\"},\"line\":{\"color\":\"white\"}},\"header\":{\"fill\":{\"color\":\"#C8D4E3\"},\"line\":{\"color\":\"white\"}},\"type\":\"table\"}]},\"layout\":{\"annotationdefaults\":{\"arrowcolor\":\"#2a3f5f\",\"arrowhead\":0,\"arrowwidth\":1},\"autotypenumbers\":\"strict\",\"coloraxis\":{\"colorbar\":{\"outlinewidth\":0,\"ticks\":\"\"}},\"colorscale\":{\"diverging\":[[0,\"#8e0152\"],[0.1,\"#c51b7d\"],[0.2,\"#de77ae\"],[0.3,\"#f1b6da\"],[0.4,\"#fde0ef\"],[0.5,\"#f7f7f7\"],[0.6,\"#e6f5d0\"],[0.7,\"#b8e186\"],[0.8,\"#7fbc41\"],[0.9,\"#4d9221\"],[1,\"#276419\"]],\"sequential\":[[0.0,\"#0d0887\"],[0.1111111111111111,\"#46039f\"],[0.2222222222222222,\"#7201a8\"],[0.3333333333333333,\"#9c179e\"],[0.4444444444444444,\"#bd3786\"],[0.5555555555555556,\"#d8576b\"],[0.6666666666666666,\"#ed7953\"],[0.7777777777777778,\"#fb9f3a\"],[0.8888888888888888,\"#fdca26\"],[1.0,\"#f0f921\"]],\"sequentialminus\":[[0.0,\"#0d0887\"],[0.1111111111111111,\"#46039f\"],[0.2222222222222222,\"#7201a8\"],[0.3333333333333333,\"#9c179e\"],[0.4444444444444444,\"#bd3786\"],[0.5555555555555556,\"#d8576b\"],[0.6666666666666666,\"#ed7953\"],[0.7777777777777778,\"#fb9f3a\"],[0.8888888888888888,\"#fdca26\"],[1.0,\"#f0f921\"]]},\"colorway\":[\"#636efa\",\"#EF553B\",\"#00cc96\",\"#ab63fa\",\"#FFA15A\",\"#19d3f3\",\"#FF6692\",\"#B6E880\",\"#FF97FF\",\"#FECB52\"],\"font\":{\"color\":\"#2a3f5f\"},\"geo\":{\"bgcolor\":\"white\",\"lakecolor\":\"white\",\"landcolor\":\"#E5ECF6\",\"showlakes\":true,\"showland\":true,\"subunitcolor\":\"white\"},\"hoverlabel\":{\"align\":\"left\"},\"hovermode\":\"closest\",\"mapbox\":{\"style\":\"light\"},\"paper_bgcolor\":\"white\",\"plot_bgcolor\":\"#E5ECF6\",\"polar\":{\"angularaxis\":{\"gridcolor\":\"white\",\"linecolor\":\"white\",\"ticks\":\"\"},\"bgcolor\":\"#E5ECF6\",\"radialaxis\":{\"gridcolor\":\"white\",\"linecolor\":\"white\",\"ticks\":\"\"}},\"scene\":{\"xaxis\":{\"backgroundcolor\":\"#E5ECF6\",\"gridcolor\":\"white\",\"gridwidth\":2,\"linecolor\":\"white\",\"showbackground\":true,\"ticks\":\"\",\"zerolinecolor\":\"white\"},\"yaxis\":{\"backgroundcolor\":\"#E5ECF6\",\"gridcolor\":\"white\",\"gridwidth\":2,\"linecolor\":\"white\",\"showbackground\":true,\"ticks\":\"\",\"zerolinecolor\":\"white\"},\"zaxis\":{\"backgroundcolor\":\"#E5ECF6\",\"gridcolor\":\"white\",\"gridwidth\":2,\"linecolor\":\"white\",\"showbackground\":true,\"ticks\":\"\",\"zerolinecolor\":\"white\"}},\"shapedefaults\":{\"line\":{\"color\":\"#2a3f5f\"}},\"ternary\":{\"aaxis\":{\"gridcolor\":\"white\",\"linecolor\":\"white\",\"ticks\":\"\"},\"baxis\":{\"gridcolor\":\"white\",\"linecolor\":\"white\",\"ticks\":\"\"},\"bgcolor\":\"#E5ECF6\",\"caxis\":{\"gridcolor\":\"white\",\"linecolor\":\"white\",\"ticks\":\"\"}},\"title\":{\"x\":0.05},\"xaxis\":{\"automargin\":true,\"gridcolor\":\"white\",\"linecolor\":\"white\",\"ticks\":\"\",\"title\":{\"standoff\":15},\"zerolinecolor\":\"white\",\"zerolinewidth\":2},\"yaxis\":{\"automargin\":true,\"gridcolor\":\"white\",\"linecolor\":\"white\",\"ticks\":\"\",\"title\":{\"standoff\":15},\"zerolinecolor\":\"white\",\"zerolinewidth\":2}}}},                        {\"responsive\": true}                    ).then(function(){\n",
       "                            \n",
       "var gd = document.getElementById('3af32a5e-29c7-4562-8ef4-fb40c5500b9e');\n",
       "var x = new MutationObserver(function (mutations, observer) {{\n",
       "        var display = window.getComputedStyle(gd).display;\n",
       "        if (!display || display === 'none') {{\n",
       "            console.log([gd, 'removed!']);\n",
       "            Plotly.purge(gd);\n",
       "            observer.disconnect();\n",
       "        }}\n",
       "}});\n",
       "\n",
       "// Listen for the removal of the full notebook cells\n",
       "var notebookContainer = gd.closest('#notebook-container');\n",
       "if (notebookContainer) {{\n",
       "    x.observe(notebookContainer, {childList: true});\n",
       "}}\n",
       "\n",
       "// Listen for the clearing of the current output cell\n",
       "var outputEl = gd.closest('.output');\n",
       "if (outputEl) {{\n",
       "    x.observe(outputEl, {childList: true});\n",
       "}}\n",
       "\n",
       "                        })                };                });            </script>        </div>"
      ]
     },
     "metadata": {},
     "output_type": "display_data"
    }
   ],
   "source": [
    "df = reviews['country'].replace(\"US\", \"United States\").value_counts()\n",
    "\n",
    "iplot([go.Choropleth(\n",
    "    locationmode='country names',\n",
    "    locations=df.index.values,\n",
    "    text=df.index,\n",
    "    z=df.values\n",
    ")])"
   ]
  },
  {
   "cell_type": "code",
   "execution_count": null,
   "id": "82538e22",
   "metadata": {},
   "outputs": [],
   "source": []
  }
 ],
 "metadata": {
  "kernelspec": {
   "display_name": "Python 3 (ipykernel)",
   "language": "python",
   "name": "python3"
  },
  "language_info": {
   "codemirror_mode": {
    "name": "ipython",
    "version": 3
   },
   "file_extension": ".py",
   "mimetype": "text/x-python",
   "name": "python",
   "nbconvert_exporter": "python",
   "pygments_lexer": "ipython3",
   "version": "3.11.5"
  }
 },
 "nbformat": 4,
 "nbformat_minor": 5
}
